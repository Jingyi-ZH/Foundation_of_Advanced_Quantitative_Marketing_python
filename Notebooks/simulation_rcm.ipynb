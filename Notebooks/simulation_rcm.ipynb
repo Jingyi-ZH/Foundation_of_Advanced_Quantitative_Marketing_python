{
 "cells": [
  {
   "cell_type": "code",
   "execution_count": null,
   "id": "dd05bb4a",
   "metadata": {},
   "outputs": [],
   "source": [
    "import os\n",
    "root = \"../../Foundation_of_Advanced_Quantitative_Marketing_Python\"\n",
    "os.chdir(root)\n",
    "import numpy as np\n",
    "import pandas as pd\n",
    "import src.logit_boost as lgt\n",
    "from scipy.optimize import minimize\n",
    "import statsmodels.api as sm"
   ]
  },
  {
   "cell_type": "markdown",
   "id": "aa86439a",
   "metadata": {},
   "source": [
    "# Simulation"
   ]
  },
  {
   "cell_type": "code",
   "execution_count": null,
   "id": "65f492e4",
   "metadata": {},
   "outputs": [
    {
     "data": {
      "text/plain": [
       "(   ind_id  task_id  alt_id  chosen     price        x1\n",
       " 0       0        0       0       1  5.492618  1.399355\n",
       " 1       0        0       1       0  6.430066  0.924634\n",
       " 2       0        0       2       0  9.644963  0.059630\n",
       " 3       0        0       3       0  8.966734 -0.646937\n",
       " 4       0        1       0       0  1.980172  0.698223,\n",
       "              ind_id       task_id        alt_id        chosen         price  \\\n",
       " count  20000.000000  20000.000000  20000.000000  20000.000000  20000.000000   \n",
       " mean     499.500000      2.000000      1.500000      0.250000      5.473366   \n",
       " std      288.682207      1.414249      1.118062      0.433024      2.596346   \n",
       " min        0.000000      0.000000      0.000000      0.000000      1.000050   \n",
       " 25%      249.750000      1.000000      0.750000      0.000000      3.213601   \n",
       " 50%      499.500000      2.000000      1.500000      0.000000      5.468725   \n",
       " 75%      749.250000      3.000000      2.250000      0.250000      7.724986   \n",
       " max      999.000000      4.000000      3.000000      1.000000      9.999749   \n",
       " \n",
       "                  x1  \n",
       " count  20000.000000  \n",
       " mean       0.002770  \n",
       " std        1.003954  \n",
       " min       -3.922400  \n",
       " 25%       -0.669079  \n",
       " 50%        0.003639  \n",
       " 75%        0.683100  \n",
       " max        4.479084  )"
      ]
     },
     "execution_count": 4,
     "metadata": {},
     "output_type": "execute_result"
    }
   ],
   "source": [
    "# Parameters for simulation\n",
    "num_individuals = 1000  # Number of individuals (I)\n",
    "num_tasks = 5          # Number of choice tasks per individual (T)\n",
    "num_alts = 4           # Number of alternatives per task (J)\n",
    "num_features = 1       # Number of non-price features (K)\n",
    "\n",
    "# True parameters\n",
    "beta_const = 0.0       # No outside option; all alts symmetric except attributes\n",
    "beta_x = np.array([1.5])  # Fixed coefficient for x1\n",
    "mu_alpha = -2.0        # Mean of random coefficient on price\n",
    "sigma_alpha = 1.0      # Std dev of random coefficient on price\n",
    "\n",
    "# Generate data\n",
    "np.random.seed(42)\n",
    "\n",
    "# Individual-specific random coefficients for price\n",
    "alpha_i = np.random.normal(mu_alpha, sigma_alpha, size=num_individuals)\n",
    "\n",
    "# Prepare arrays\n",
    "ind_ids = np.repeat(np.arange(num_individuals), num_tasks * num_alts)\n",
    "task_ids = np.tile(np.repeat(np.arange(num_tasks), num_alts), num_individuals)\n",
    "alt_ids = np.tile(np.arange(num_alts), num_individuals * num_tasks)\n",
    "\n",
    "# Features: x1 ~ N(0,1), price ~ Uniform(1,10)\n",
    "x_nonprice = np.random.normal(0, 1, size=(num_individuals * num_tasks * num_alts, num_features))\n",
    "price = np.random.uniform(1, 10, size=num_individuals * num_tasks * num_alts)\n",
    "\n",
    "# Simulate choices\n",
    "chosen = np.zeros(num_individuals * num_tasks * num_alts, dtype=int)\n",
    "\n",
    "for i in range(num_individuals):\n",
    "    alpha = alpha_i[i]\n",
    "    for t in range(num_tasks):\n",
    "        start = (i * num_tasks * num_alts) + (t * num_alts)\n",
    "        end = start + num_alts\n",
    "        \n",
    "        # Utilities: beta_x * x + alpha * price + epsilon (Gumbel)\n",
    "        mean_util = np.dot(x_nonprice[start:end], beta_x) + alpha * price[start:end]\n",
    "        epsilon = np.random.gumbel(0, 1, size=num_alts)\n",
    "        util = mean_util + epsilon\n",
    "        \n",
    "        # Choice: argmax util\n",
    "        choice_idx = np.argmax(util)\n",
    "        chosen[start + choice_idx] = 1\n",
    "\n",
    "# Create DataFrame in long format\n",
    "data = pd.DataFrame({\n",
    "    'ind_id': ind_ids,\n",
    "    'task_id': task_ids,\n",
    "    'alt_id': alt_ids,\n",
    "    'chosen': chosen,\n",
    "    'price': price,\n",
    "    'x1': x_nonprice[:, 0],  # Assuming one feature\n",
    "})\n",
    "\n",
    "data.head()"
   ]
  },
  {
   "cell_type": "markdown",
   "id": "d6059ff9",
   "metadata": {},
   "source": [
    "# RCM"
   ]
  },
  {
   "cell_type": "code",
   "execution_count": 9,
   "id": "01238856",
   "metadata": {},
   "outputs": [
    {
     "data": {
      "text/plain": [
       "((5000, 4, 2), (5000,), (5000,))"
      ]
     },
     "execution_count": 9,
     "metadata": {},
     "output_type": "execute_result"
    }
   ],
   "source": [
    "p = 4 # three alternatives + outside option\n",
    "X = data[[\"price\",\"x1\"]].values\n",
    "# X = sm.add_constant(X)\n",
    "X = X.reshape(1000*5, p, -1)\n",
    "y = data['chosen'].values.reshape(-1,4).argmax(axis=1)\n",
    "indiv_id = data[\"ind_id\"].values.reshape(-1, p)[:,0]\n",
    "X.shape, y.shape, indiv_id.shape"
   ]
  },
  {
   "cell_type": "code",
   "execution_count": 10,
   "id": "d79d511c",
   "metadata": {},
   "outputs": [
    {
     "name": "stdout",
     "output_type": "stream",
     "text": [
      "Current NLL: 2308.122890519869\n",
      "Current NLL: 2308.1228904310046\n",
      "Maximized LL: -2308.1228904310046\n",
      "The means of the coefficients are: [-2.00460499  1.52849088]\n",
      "The standard deviations of the coefficients are: [1.02925884 0.        ]\n",
      "The covariance matrix of the coefficients is: [[1.05937375 0.        ]\n",
      " [0.         0.        ]]\n"
     ]
    },
    {
     "data": {
      "text/plain": [
       "<src.logit_boost.RandomCoefficientsModel at 0x169f2aaa0>"
      ]
     },
     "execution_count": 10,
     "metadata": {},
     "output_type": "execute_result"
    }
   ],
   "source": [
    "homo_covariates = np.array([0,1])  # only price is random\n",
    "model = lgt.RandomCoefficientsModel()\n",
    "model.fit(X, y, indiv_id=indiv_id, draws=500, niteration=1, homo_covariates=homo_covariates)"
   ]
  },
  {
   "cell_type": "code",
   "execution_count": null,
   "id": "d120a2fa",
   "metadata": {},
   "outputs": [],
   "source": []
  }
 ],
 "metadata": {
  "kernelspec": {
   "display_name": "base",
   "language": "python",
   "name": "python3"
  },
  "language_info": {
   "codemirror_mode": {
    "name": "ipython",
    "version": 3
   },
   "file_extension": ".py",
   "mimetype": "text/x-python",
   "name": "python",
   "nbconvert_exporter": "python",
   "pygments_lexer": "ipython3",
   "version": "3.10.10"
  }
 },
 "nbformat": 4,
 "nbformat_minor": 5
}
