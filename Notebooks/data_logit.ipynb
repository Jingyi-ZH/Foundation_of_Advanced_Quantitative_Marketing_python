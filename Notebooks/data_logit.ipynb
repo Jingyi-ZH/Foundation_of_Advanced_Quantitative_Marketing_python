{
 "cells": [
  {
   "cell_type": "code",
   "execution_count": null,
   "id": "45154ace",
   "metadata": {},
   "outputs": [],
   "source": [
    "import os\n",
    "root = \"../../Foundation_of_Advanced_Quantitative_Marketing_Python\"\n",
    "os.chdir(root)"
   ]
  },
  {
   "cell_type": "code",
   "execution_count": 5,
   "id": "c774cec3",
   "metadata": {},
   "outputs": [],
   "source": [
    "import os\n",
    "import numpy as np\n",
    "import pandas as pd\n",
    "from src import logit as lgt\n",
    "from scipy.optimize import minimize\n",
    "import statsmodels.api as sm"
   ]
  },
  {
   "cell_type": "markdown",
   "id": "5843b58a",
   "metadata": {},
   "source": [
    "# Logit Model Estimation"
   ]
  },
  {
   "cell_type": "code",
   "execution_count": null,
   "id": "766933e7",
   "metadata": {},
   "outputs": [],
   "source": [
    "df = pd.read_excel('../Data/Yogurt100N.xlsx')"
   ]
  },
  {
   "cell_type": "code",
   "execution_count": 2,
   "id": "c3fdcbab",
   "metadata": {},
   "outputs": [
    {
     "data": {
      "text/plain": [
       "((2430, 4, 5), (2430,))"
      ]
     },
     "execution_count": 2,
     "metadata": {},
     "output_type": "execute_result"
    }
   ],
   "source": [
    "p=4 # number of alternatives\n",
    "# construct X and y\n",
    "cols =['Feature 1', 'Price 1', 'Feature 2', 'Price 2',\n",
    "       'Feature 3', 'Price 3', 'Feature 4', 'Price 4']\n",
    "features = df[cols].values\n",
    "N = features.shape[0]\n",
    "# add brand dummies\n",
    "bdummy=np.vstack((np.eye(p-1),np.zeros((p-1,1)).T))\n",
    "bdummy=np.tile(bdummy, (N,1)).reshape(N, p, 3)  # (N*4, 3)\n",
    "# hstack bdummy and features\n",
    "features = features.reshape(N, p, 2)  # (N, 4, 2)\n",
    "features = np.concatenate([bdummy, features], axis=2)  # (N, 4, 5)\n",
    "# features = features.reshape(N, p*5)  # (N, 20)\n",
    "X = features\n",
    "# construct y (choice)\n",
    "brands = df[['Brand 1', 'Brand  2', 'Brand 3', 'Brand 4']].values\n",
    "y = np.argmax(brands, axis=1)\n",
    "X.shape, y.shape"
   ]
  },
  {
   "cell_type": "code",
   "execution_count": 3,
   "id": "ec2d0b42",
   "metadata": {},
   "outputs": [
    {
     "name": "stdout",
     "output_type": "stream",
     "text": [
      "Optimized parameters:\n",
      "[  1.38771887   0.64348839  -3.08609171   0.48743159 -37.05719774]\n",
      "Maximized LL: -2658.5566966130473\n"
     ]
    },
    {
     "data": {
      "text/plain": [
       "<logit.LogitModel at 0x1621774f0>"
      ]
     },
     "execution_count": 3,
     "metadata": {},
     "output_type": "execute_result"
    }
   ],
   "source": [
    "model = lgt.LogitModel()\n",
    "model.fit(X, y)"
   ]
  },
  {
   "cell_type": "code",
   "execution_count": 4,
   "id": "2ba9fcb1",
   "metadata": {},
   "outputs": [
    {
     "name": "stdout",
     "output_type": "stream",
     "text": [
      "0.21080523390278283\n",
      "5327.113393226095\n",
      "5356.091625907768\n",
      "5337.6490476412155\n",
      "5327.138145701342\n"
     ]
    }
   ],
   "source": [
    "print(lgt.Metrics.rho2(model, X, y))\n",
    "print(lgt.Metrics.AIC(model))\n",
    "print(lgt.Metrics.BIC(model))\n",
    "print(lgt.Metrics.HQC(model))\n",
    "print(lgt.Metrics.CAIC(model))"
   ]
  },
  {
   "cell_type": "markdown",
   "id": "3cbe8d02",
   "metadata": {},
   "source": [
    "# Nested Logit Model Estimation"
   ]
  },
  {
   "cell_type": "code",
   "execution_count": null,
   "id": "5236e26c",
   "metadata": {},
   "outputs": [],
   "source": [
    "df = pd.read_excel('./Data/Yogurt100N.xlsx')"
   ]
  },
  {
   "cell_type": "code",
   "execution_count": 10,
   "id": "6f13b205",
   "metadata": {},
   "outputs": [
    {
     "name": "stdout",
     "output_type": "stream",
     "text": [
      "Optimized parameters for features:\n",
      "[  1.3816447    0.83942657  -1.65835188   0.3744476  -26.58028504]\n",
      "Optimized parameters for within-group correlations (rho = 0.5 will be assigned to groups with only one product):\n",
      "[0.64 0.5 ]\n",
      "Maximized LL: -2653.764665903218\n"
     ]
    },
    {
     "data": {
      "text/plain": [
       "<logit.NestedLogitModel at 0x1620e5d80>"
      ]
     },
     "execution_count": 10,
     "metadata": {},
     "output_type": "execute_result"
    }
   ],
   "source": [
    "p=4 # number of alternatives\n",
    "# construct X and y\n",
    "cols =['Feature 1', 'Price 1', 'Feature 2', 'Price 2',\n",
    "       'Feature 3', 'Price 3', 'Feature 4', 'Price 4']\n",
    "features = df[cols].values\n",
    "N = features.shape[0]\n",
    "# add brand dummies\n",
    "bdummy=np.vstack((np.eye(p-1),np.zeros((p-1,1)).T))\n",
    "bdummy=np.tile(bdummy, (N,1)).reshape(N, p, 3)  # (N*4, 3)\n",
    "# hstack bdummy, group id and features\n",
    "group_ids = np.array([0, 0, 0, 1])  # Group IDs for the nested structure\n",
    "group_ids = np.tile(group_ids, (N, 1)).reshape(N, p, 1)  # (N, 4, 1)\n",
    "features = features.reshape(N, p, 2)  # (N, 4, 2)\n",
    "features = np.concatenate([bdummy, features,group_ids], axis=2)  # (N, 4, 3+2+1=6)\n",
    "# features = features.reshape(N, p*5)  # (N, 20)\n",
    "X = features\n",
    "# construct y (choice)\n",
    "brands = df[['Brand 1', 'Brand  2', 'Brand 3', 'Brand 4']].values\n",
    "y = np.argmax(brands, axis=1)\n",
    "X.shape, y.shape\n",
    "\n",
    "model = lgt.NestedLogitModel()\n",
    "model.fit(X, y, 2, nsingle_class=1)"
   ]
  },
  {
   "cell_type": "code",
   "execution_count": 11,
   "id": "159f5b9b",
   "metadata": {},
   "outputs": [
    {
     "name": "stdout",
     "output_type": "stream",
     "text": [
      "0.235958513035898\n",
      "5319.529331806436\n",
      "5354.303211024444\n",
      "5332.172117104581\n",
      "5319.5639995736665\n"
     ]
    }
   ],
   "source": [
    "print(lgt.Metrics.rho2(model, X, y))\n",
    "print(lgt.Metrics.AIC(model))\n",
    "print(lgt.Metrics.BIC(model))\n",
    "print(lgt.Metrics.HQC(model))\n",
    "print(lgt.Metrics.CAIC(model))"
   ]
  },
  {
   "cell_type": "markdown",
   "id": "d5e8a635",
   "metadata": {},
   "source": [
    "# LCM Estimation\n",
    "Realize global optimization with basinhopping."
   ]
  },
  {
   "cell_type": "code",
   "execution_count": null,
   "id": "bda0506c",
   "metadata": {},
   "outputs": [],
   "source": [
    "df = pd.read_excel('./Data/24_Yogurt100_2SegSolution (1).xlsx')"
   ]
  },
  {
   "cell_type": "code",
   "execution_count": 5,
   "id": "fa884e42",
   "metadata": {},
   "outputs": [
    {
     "data": {
      "text/plain": [
       "((2431, 4, 5), (2431,))"
      ]
     },
     "execution_count": 5,
     "metadata": {},
     "output_type": "execute_result"
    }
   ],
   "source": [
    "p=4 # number of alternatives\n",
    "# construct X and y\n",
    "cols =['Feature 1', 'Price 1', 'Feature 2', 'Price 2',\n",
    "       'Feature 3', 'Price 3', 'Feature 4', 'Price 4']\n",
    "features = df[cols].values\n",
    "indiv_id = df['Pan I.D.'].values\n",
    "N = features.shape[0]\n",
    "# add brand dummies\n",
    "bdummy=np.vstack((np.eye(p-1),np.zeros((p-1,1)).T))\n",
    "bdummy=np.tile(bdummy, (N,1)).reshape(N, p, 3)  # (N*4, 3)\n",
    "# hstack bdummy and features\n",
    "features = features.reshape(N, p, 2)  # (N, 4, 2)\n",
    "features = np.concatenate([bdummy, features], axis=2)  # (N, 4, 5)\n",
    "# features = features.reshape(N, p*5)  # (N, 20)\n",
    "X = features\n",
    "# construct y (choice)\n",
    "brands = df[['Brand 1', 'Brand  2', 'Brand 3', 'Brand 4']].values\n",
    "y = np.argmax(brands, axis=1)\n",
    "X.shape, y.shape"
   ]
  },
  {
   "cell_type": "code",
   "execution_count": 9,
   "id": "66d2fe5f",
   "metadata": {},
   "outputs": [
    {
     "name": "stdout",
     "output_type": "stream",
     "text": [
      "Current NLL: 1915.8010532041665\n",
      "Current NLL: 1915.8013574514746\n",
      "Current NLL: 1915.8019621214269\n",
      "Current NLL: 1915.8015617107574\n",
      "Current NLL: 1915.801580974075\n",
      "Current NLL: 1915.8010657174586\n",
      "Current NLL: 1915.8011467928704\n",
      "Current NLL: 1915.8031630179566\n",
      "Current NLL: 1915.8015869215685\n",
      "Current NLL: 1915.8010535486228\n",
      "Current NLL: 1915.8027657431355\n",
      "Optimized parameters for features:\n",
      "[  2.69780807   3.85194226  -0.67362732   1.42635078 -50.36285002\n",
      "   1.33346181  -1.29435176  -4.28497991   0.3774249  -36.91499758]\n",
      "Optimized parameters for class weights (pie):\n",
      "[0.48 0.52]\n",
      "Maximized LL: -1915.8010532041665\n",
      "rho2: None\n",
      "AIC: 3853.602106408333\n",
      "BIC: 3917.3587441258105\n",
      "HQC: 3876.7817072051216\n",
      "CAIC: 3853.7112424149473\n"
     ]
    },
    {
     "name": "stderr",
     "output_type": "stream",
     "text": [
      "/Users/jingyi/Uchi Booth/24 autumn/FQM/Python is all you need/logit.py:18: UserWarning: Invalid model type. Only LogitModel and NestedLogitModel are supported.\n",
      "  warnings.warn(\n"
     ]
    }
   ],
   "source": [
    "# Model with two segments\n",
    "model = lgt.LatentClassModel()\n",
    "model.fit(X, y, nclasses=2, indiv_id=indiv_id)\n",
    "print('rho2: ' + str(lgt.Metrics.rho2(model, X, y)))\n",
    "print('AIC: ' + str(lgt.Metrics.AIC(model)))\n",
    "print('BIC: ' + str(lgt.Metrics.BIC(model)))\n",
    "print('HQC: ' + str(lgt.Metrics.HQC(model)))\n",
    "print('CAIC: ' + str(lgt.Metrics.CAIC(model)))"
   ]
  },
  {
   "cell_type": "code",
   "execution_count": 10,
   "id": "e2f47d3a",
   "metadata": {},
   "outputs": [
    {
     "name": "stdout",
     "output_type": "stream",
     "text": [
      "Current NLL: 2116.6379432343742\n",
      "Current NLL: 1482.9701672487647\n",
      "Current NLL: 1482.9702488571083\n",
      "Current NLL: 1482.9702556794994\n",
      "Current NLL: 1482.9708347154985\n",
      "Current NLL: 1482.9702405593519\n",
      "Current NLL: 1482.9706155486365\n",
      "Current NLL: 1482.9702780190332\n",
      "Current NLL: 1482.9713476911977\n",
      "Current NLL: 1482.9704342727287\n",
      "Current NLL: 1482.9705165406583\n",
      "Optimized parameters for features:\n",
      "[ -1.08632562  -2.64056985  -6.07426227   1.06046713 -20.2326853\n",
      "   1.96800861   3.00786833  -1.64989002   1.31390257 -55.50993595\n",
      "   5.14384351   1.40378513  -1.84316748  -0.18450514 -57.49132846]\n",
      "Optimized parameters for class weights (pie):\n",
      "[0.15 0.51 0.34]\n",
      "Maximized LL: -1482.9701672487647\n",
      "rho2: None\n",
      "AIC: 2999.9403344975294\n",
      "BIC: 3098.4733200609035\n",
      "HQC: 3035.7633539107483\n",
      "CAIC: 3000.1939606889923\n"
     ]
    }
   ],
   "source": [
    "# model with three segments\n",
    "model = lgt.LatentClassModel()\n",
    "model.fit(X, y, nclasses=3, indiv_id=indiv_id)\n",
    "print('rho2: ' + str(lgt.Metrics.rho2(model, X, y)))\n",
    "print('AIC: ' + str(lgt.Metrics.AIC(model)))\n",
    "print('BIC: ' + str(lgt.Metrics.BIC(model)))\n",
    "print('HQC: ' + str(lgt.Metrics.HQC(model)))\n",
    "print('CAIC: ' + str(lgt.Metrics.CAIC(model)))"
   ]
  },
  {
   "cell_type": "code",
   "execution_count": 3,
   "id": "6e258cf7",
   "metadata": {},
   "outputs": [
    {
     "name": "stdout",
     "output_type": "stream",
     "text": [
      "Current NLL: 2116.6379420988937\n",
      "Current NLL: 1389.7312196574803\n",
      "Current NLL: 1389.7312990693235\n",
      "Current NLL: 1389.7317044019478\n",
      "Current NLL: 1389.731622565172\n",
      "Current NLL: 1389.7311811991895\n",
      "Current NLL: 1389.731179664323\n",
      "Current NLL: 1389.7313192541126\n",
      "Current NLL: 1389.731411138419\n",
      "Current NLL: 1389.732563421723\n",
      "Current NLL: 1389.7314990345628\n",
      "Optimized parameters for features:\n",
      "[ -1.46097287  -4.00197312 -34.32323569   1.09791698 -14.82351352\n",
      "   1.30161244   0.06910057  -2.4794909    1.02645535 -48.03713536\n",
      "   2.3319257    4.04250635  -0.90529474   0.93899491 -41.28363967\n",
      "   6.10593626   2.42610433  -0.84917872  -0.19424931 -54.8874037 ]\n",
      "Optimized parameters for class weights (pie):\n",
      "[0.09 0.23 0.37 0.3 ]\n",
      "Maximized LL: -1389.731179664323\n",
      "rho2: None\n",
      "AIC: 2825.462359328646\n",
      "BIC: 2958.771692737917\n",
      "HQC: 2873.928797358295\n",
      "CAIC: 2825.9210215637936\n"
     ]
    },
    {
     "name": "stderr",
     "output_type": "stream",
     "text": [
      "/Users/jingyi/Uchi Booth/24 autumn/FQM/Python is all you need/logit.py:18: UserWarning: Invalid model type. Only LogitModel and NestedLogitModel are supported.\n",
      "  warnings.warn(\n"
     ]
    }
   ],
   "source": [
    "# model with four segments\n",
    "model = lgt.LatentClassModel()\n",
    "model.fit(X, y, nclasses=4, indiv_id=indiv_id)\n",
    "print('rho2: ' + str(lgt.Metrics.rho2(model, X, y)))\n",
    "print('AIC: ' + str(lgt.Metrics.AIC(model)))\n",
    "print('BIC: ' + str(lgt.Metrics.BIC(model)))\n",
    "print('HQC: ' + str(lgt.Metrics.HQC(model)))\n",
    "print('CAIC: ' + str(lgt.Metrics.CAIC(model)))"
   ]
  },
  {
   "cell_type": "code",
   "execution_count": 9,
   "id": "b8dd0e86",
   "metadata": {},
   "outputs": [
    {
     "data": {
      "text/plain": [
       "array([2, 0, 1, 1, 2, 0, 2, 2, 1, 2, 1, 2, 1, 3, 0, 0, 3, 0, 2, 3, 1, 3,\n",
       "       2, 2, 1, 2, 2, 2, 2, 1, 3, 3, 2, 3, 2, 3, 2, 1, 1, 3, 2, 1, 3, 2,\n",
       "       3, 3, 3, 3, 1, 2, 2, 2, 1, 2, 3, 1, 1, 2, 3, 2, 3, 2, 1, 0, 3, 2,\n",
       "       3, 2, 2, 0, 3, 2, 3, 2, 1, 1, 2, 2, 3, 3, 0, 2, 2, 1, 3, 2, 1, 3,\n",
       "       1, 3, 3, 2, 1, 3, 3, 2, 0, 3, 1, 1, 2])"
      ]
     },
     "execution_count": 9,
     "metadata": {},
     "output_type": "execute_result"
    }
   ],
   "source": [
    "# assign segemt (0-3) to 101 households\n",
    "model.segment_assign()"
   ]
  },
  {
   "cell_type": "markdown",
   "id": "941ee786",
   "metadata": {},
   "source": [
    "# Random Coefficients Model"
   ]
  },
  {
   "cell_type": "code",
   "execution_count": null,
   "id": "8776d25f",
   "metadata": {},
   "outputs": [],
   "source": [
    "df = pd.read_excel('./Data/24_Yogurt100N_MVN.xlsx')\n",
    "df = df[:2430]"
   ]
  },
  {
   "cell_type": "code",
   "execution_count": 2,
   "id": "059cda38",
   "metadata": {},
   "outputs": [
    {
     "data": {
      "text/plain": [
       "((2430, 4, 5), (2430,))"
      ]
     },
     "execution_count": 2,
     "metadata": {},
     "output_type": "execute_result"
    }
   ],
   "source": [
    "p=4 # number of alternatives\n",
    "# construct X and y\n",
    "cols =['Feature 1', 'Price 1', 'Feature 2', 'Price 2',\n",
    "       'Feature 3', 'Price 3', 'Feature 4', 'Price 4']\n",
    "features = df[cols].values\n",
    "indiv_id = df['Pan I.D.'].values\n",
    "N = features.shape[0]\n",
    "# add brand dummies\n",
    "bdummy=np.vstack((np.eye(p-1),np.zeros((p-1,1)).T))\n",
    "bdummy=np.tile(bdummy, (N,1)).reshape(N, p, 3)  # (N*4, 3)\n",
    "# hstack bdummy and features\n",
    "features = features.reshape(N, p, 2)  # (N, 4, 2)\n",
    "features = np.concatenate([bdummy, features], axis=2)  # (N, 4, 5)\n",
    "# features = features.reshape(N, p*5)  # (N, 20)\n",
    "X = features\n",
    "# construct y (choice)\n",
    "brands = df[['Brand 1', 'Brand  2', 'Brand 3', 'Brand 4']].values\n",
    "y = np.argmax(brands, axis=1)\n",
    "X.shape, y.shape"
   ]
  },
  {
   "cell_type": "code",
   "execution_count": 4,
   "id": "a771d710",
   "metadata": {},
   "outputs": [
    {
     "name": "stdout",
     "output_type": "stream",
     "text": [
      "Current NLL: 1286.2648119579212\n",
      "Current NLL: 1286.266024636101\n",
      "Current NLL: 1286.2616555564186\n",
      "Current NLL: 1286.259927725831\n",
      "Current NLL: 1286.2600775498465\n",
      "Current NLL: 1286.259548441499\n",
      "Maximized LL: -1286.259548441499\n",
      "The means of the coefficients are: [  2.91993964   1.59981367  -2.09072398   0.66947809 -40.9158348 ]\n",
      "The standard deviations of the coefficients are: [ 3.98223563  6.04008649  5.09146379  3.86527885 81.26743473]\n",
      "The covariance matrix of the coefficients is: [[  15.85820063   19.7439527    16.97446155  -10.79927602 -146.10224387]\n",
      " [  19.7439527    36.48264482   29.53227933  -14.65003081 -321.13528173]\n",
      " [  16.97446155   29.53227933   25.9230035   -13.24618147 -301.163749  ]\n",
      " [ -10.79927602  -14.65003081  -13.24618147   14.9403806     7.8348918 ]\n",
      " [-146.10224387 -321.13528173 -301.163749      7.8348918  6604.3959478 ]]\n",
      "rho2: None\n",
      "AIC: 2612.519096882998\n",
      "BIC: 2728.4320276096896\n",
      "HQC: 2654.661714543482\n",
      "CAIC: 2612.867789286485\n"
     ]
    }
   ],
   "source": [
    "# random coefficients model (10 draws by default)\n",
    "model = lgt.RandomCoefficientsModel()\n",
    "model.fit(X, y, indiv_id=indiv_id)\n",
    "print('rho2: ' + str(lgt.Metrics.rho2(model, X, y)))\n",
    "print('AIC: ' + str(lgt.Metrics.AIC(model)))\n",
    "print('BIC: ' + str(lgt.Metrics.BIC(model)))\n",
    "print('HQC: ' + str(lgt.Metrics.HQC(model)))\n",
    "print('CAIC: ' + str(lgt.Metrics.CAIC(model)))"
   ]
  },
  {
   "cell_type": "code",
   "execution_count": 5,
   "id": "741b7227",
   "metadata": {},
   "outputs": [
    {
     "name": "stdout",
     "output_type": "stream",
     "text": [
      "Current NLL: 1207.5147025233516\n",
      "Current NLL: 1207.514686858835\n",
      "Current NLL: 1207.5150378988876\n",
      "Current NLL: 1207.5149823455954\n",
      "Current NLL: 1207.5152481611997\n",
      "Current NLL: 1207.5147953736275\n",
      "Maximized LL: -1207.514686858835\n",
      "The means of the coefficients are: [  4.06550969   2.26015314  -2.63906037   0.66829287 -65.92783571]\n",
      "The standard deviations of the coefficients are: [ 4.11790371  4.11582394  4.23241922  0.97378671 37.78732705]\n",
      "The covariance matrix of the coefficients is: [[ 1.69571310e+01  9.19533470e+00  5.97750741e+00  4.98309629e-01\n",
      "  -5.36639224e+01]\n",
      " [ 9.19533470e+00  1.69400067e+01  1.23022898e+01 -1.33098334e+00\n",
      "  -1.80887615e+01]\n",
      " [ 5.97750741e+00  1.23022898e+01  1.79133724e+01  9.97864961e-01\n",
      "  -1.32379394e+01]\n",
      " [ 4.98309629e-01 -1.33098334e+00  9.97864961e-01  9.48260551e-01\n",
      "   8.70561372e+00]\n",
      " [-5.36639224e+01 -1.80887615e+01 -1.32379394e+01  8.70561372e+00\n",
      "   1.42788209e+03]]\n",
      "rho2: None\n",
      "AIC: 2455.02937371767\n",
      "BIC: 2570.9423044443615\n",
      "HQC: 2497.171991378154\n",
      "CAIC: 2455.3780661211567\n"
     ]
    }
   ],
   "source": [
    "# random coefficients model (100 draws)\n",
    "model = lgt.RandomCoefficientsModel()\n",
    "model.fit(X, y, indiv_id=indiv_id, draws=100)\n",
    "print('rho2: ' + str(lgt.Metrics.rho2(model, X, y)))\n",
    "print('AIC: ' + str(lgt.Metrics.AIC(model)))\n",
    "print('BIC: ' + str(lgt.Metrics.BIC(model)))\n",
    "print('HQC: ' + str(lgt.Metrics.HQC(model)))\n",
    "print('CAIC: ' + str(lgt.Metrics.CAIC(model)))"
   ]
  },
  {
   "cell_type": "markdown",
   "id": "c5f6fc92",
   "metadata": {},
   "source": [
    "## apply factor analysis with random coefficient model"
   ]
  },
  {
   "cell_type": "code",
   "execution_count": null,
   "id": "e9ebb3d1",
   "metadata": {},
   "outputs": [],
   "source": [
    "df = pd.read_excel('./Data/OJ300_OnlyPurchases_Brand Map_Cts.xlsx')\n",
    "df = df[:2066]"
   ]
  },
  {
   "cell_type": "code",
   "execution_count": 2,
   "id": "d1a40c32",
   "metadata": {},
   "outputs": [
    {
     "data": {
      "text/plain": [
       "((2066, 8, 8), (2066,))"
      ]
     },
     "execution_count": 2,
     "metadata": {},
     "output_type": "execute_result"
    }
   ],
   "source": [
    "p=8 # number of alternatives\n",
    "# construct X and y\n",
    "cols =[ 'price1', 'price2', 'price3', 'price4', 'price5', 'price6', 'price7', 'price8']\n",
    "features = df[cols].values\n",
    "indiv_id = df['panid'].values\n",
    "N = features.shape[0]\n",
    "# add brand dummies\n",
    "bdummy=np.vstack((np.eye(p-1),np.zeros((p-1,1)).T))\n",
    "bdummy=np.tile(bdummy, (N,1)).reshape(N, p, -1)\n",
    "# hstack bdummy and features\n",
    "features = features.reshape(N, p, -1)  # (N, 8, 2)\n",
    "features = np.concatenate([bdummy, features], axis=2)  # (N, 8, 5)\n",
    "X = features\n",
    "# construct y (choice)\n",
    "brands = df[['br1', 'br2', 'br3', 'br4', 'br5', 'br6', 'br7', 'br8']].values\n",
    "y = np.argmax(brands, axis=1)\n",
    "X.shape, y.shape"
   ]
  },
  {
   "cell_type": "code",
   "execution_count": null,
   "id": "71a7e7bb",
   "metadata": {},
   "outputs": [
    {
     "name": "stdout",
     "output_type": "stream",
     "text": [
      "Current NLL: 2845.624967553122\n",
      "Current NLL: 2845.625094537688\n",
      "Current NLL: 2845.624972142691\n",
      "Current NLL: 2845.6250173317876\n",
      "current BIC:  5805.750479851438\n",
      "Current NLL: 2342.528010561873\n",
      "Current NLL: 2342.528038071153\n",
      "Current NLL: 2340.6946058592225\n",
      "Current NLL: 2340.69461521331\n",
      "current BIC:  4841.689974361716\n",
      "Current NLL: 2177.77234742876\n",
      "Current NLL: 2177.7724032528376\n",
      "Current NLL: 2177.7723333211907\n",
      "Current NLL: 2177.7723773702237\n",
      "current BIC:  4561.64564718373\n",
      "Current NLL: 2013.3198097846519\n",
      "Current NLL: 2013.3197989361674\n",
      "Current NLL: 2013.31989114719\n",
      "Current NLL: 2013.3198978209555\n",
      "current BIC:  4278.540796311761\n",
      "Current NLL: 2000.246519282262\n",
      "Current NLL: 1999.8779774355382\n",
      "Current NLL: 1999.8683455887226\n",
      "Current NLL: 1966.1273520203974\n",
      "current BIC:  4297.438107514949\n",
      "Maximized LL: -2013.3197989361674\n",
      "The optimal number of factors is: 4\n",
      "The means of the coefficients are: [-2.05053354 -2.21197914 -2.93255981  0.30712152 -1.8431252  -2.51406295\n",
      " -2.44795635 -1.47187396]\n",
      "The standard deviations of the coefficients are: [14.13009494  7.79012228 11.2574631  14.57714345  9.855857   13.72849573\n",
      "  3.75011712  0.        ]\n",
      "The covariance matrix of the coefficients is: [[ 199.65958303  100.82978979   -3.26971693  111.01450489   93.44561555\n",
      "   164.53970624  -43.90013526    0.        ]\n",
      " [ 100.82978979   60.68600516   11.29777787   42.44602277   38.69449869\n",
      "    65.55871696  -16.16920194    0.        ]\n",
      " [  -3.26971693   11.29777787  126.7304754  -127.46171077   57.41134152\n",
      "   -70.87876401   16.27471761    0.        ]\n",
      " [ 111.01450489   42.44602277 -127.46171077  212.49311128  -10.28032941\n",
      "   151.31028834  -37.97968984    0.        ]\n",
      " [  93.44561555   38.69449869   57.41134152  -10.28032941   97.13791714\n",
      "    65.17466336  -21.33808196    0.        ]\n",
      " [ 164.53970624   65.55871696  -70.87876401  151.31028834   65.17466336\n",
      "   188.4715951   -50.83211505    0.        ]\n",
      " [ -43.90013526  -16.16920194   16.27471761  -37.97968984  -21.33808196\n",
      "   -50.83211505   14.06337841    0.        ]\n",
      " [   0.            0.            0.            0.            0.\n",
      "     0.            0.            0.        ]]\n",
      "rho2: None\n",
      "AIC: 4092.639597872335\n",
      "BIC: 4278.540796311761\n",
      "HQC: 4160.786536918062\n",
      "CAIC: 4093.7439285809965\n"
     ]
    },
    {
     "name": "stderr",
     "output_type": "stream",
     "text": [
      "/Users/jingyi/Uchi Booth/24 autumn/FQM/Python is all you need/logit.py:18: UserWarning: Invalid model type. Only LogitModel and NestedLogitModel are supported.\n",
      "  warnings.warn(\n"
     ]
    }
   ],
   "source": [
    "# apply factor analysis with random coefficient model (assume price is a homogeneous attribute but seven brand intercepts are heterogeneous)\n",
    "# takes 834m 35.9s\n",
    "homo_covariates=np.array([0]*8)\n",
    "homo_covariates[-1] = 1\n",
    "model = lgt.RandomCoefficientsModel()\n",
    "model.fit(X, y, indiv_id=indiv_id, method='factor-analytic', homo_covariates=homo_covariates,niteration=3)\n",
    "print('rho2: ' + str(lgt.Metrics.rho2(model, X, y)))\n",
    "print('AIC: ' + str(lgt.Metrics.AIC(model)))\n",
    "print('BIC: ' + str(lgt.Metrics.BIC(model)))\n",
    "print('HQC: ' + str(lgt.Metrics.HQC(model)))\n",
    "print('CAIC: ' + str(lgt.Metrics.CAIC(model)))"
   ]
  },
  {
   "cell_type": "code",
   "execution_count": 3,
   "id": "27b7aa40",
   "metadata": {},
   "outputs": [
    {
     "name": "stdout",
     "output_type": "stream",
     "text": [
      "Using factor-analytic method with 2 factors.\n",
      "Current NLL: 2311.944489997234\n",
      "Current NLL: 2311.486713630418\n",
      "Current NLL: 2311.4867147741206\n",
      "Current NLL: 2311.4867492245367\n",
      "Current NLL: 2311.48669830225\n",
      "BIC:  4783.2741592477705\n",
      "Maximized LL: -2311.48669830225\n",
      "The optimal number of factors is: 2\n",
      "The means of the coefficients are: [-0.82183133 -1.20932759 -4.07324214  0.57607929 -1.79348008 -0.86328796\n",
      " -2.9583783  -1.38829553]\n",
      "The standard deviations of the coefficients are: [16.87513366 21.69844611 18.49089515 25.55137793 23.28268597 16.92142258\n",
      "  7.01111108  0.        ]\n",
      "The covariance matrix of the coefficients is: [[ 284.7701361   358.75551619 -148.85162481  381.63842068  263.95894835\n",
      "   240.30334562 -118.15855149    0.        ]\n",
      " [ 358.75551619  470.82256375 -116.94824994  532.43439462  407.43175518\n",
      "   342.43245796 -147.29956056    0.        ]\n",
      " [-148.85162481 -116.94824994  341.91320351   -6.22712325  142.29323223\n",
      "    22.94236501   67.59066131    0.        ]\n",
      " [ 381.63842068  532.43439462   -6.22712325  652.87291398  558.8308807\n",
      "   430.74653062 -154.08695876    0.        ]\n",
      " [ 263.95894835  407.43175518  142.29323223  558.8308807   542.08346579\n",
      "   380.38175189 -103.33860344    0.        ]\n",
      " [ 240.30334562  342.43245796   22.94236501  430.74653062  380.38175189\n",
      "   286.33454215  -96.42994426    0.        ]\n",
      " [-118.15855149 -147.29956056   67.59066131 -154.08695876 -103.33860344\n",
      "   -96.42994426   49.15567857    0.        ]\n",
      " [   0.            0.            0.            0.            0.\n",
      "     0.            0.            0.        ]]\n",
      "rho2: None\n",
      "AIC: 4664.9733966045\n",
      "BIC: 4783.2741592477705\n",
      "HQC: 4708.3396305426895\n",
      "CAIC: 4665.42545139902\n"
     ]
    },
    {
     "name": "stderr",
     "output_type": "stream",
     "text": [
      "/Users/jingyi/Uchi Booth/24 autumn/FQM/Python is all you need/logit.py:18: UserWarning: Invalid model type. Only LogitModel and NestedLogitModel are supported.\n",
      "  warnings.warn(\n"
     ]
    }
   ],
   "source": [
    "# apply factor analysis with random coefficient model (assume price is a homogeneous attribute but seven brand intercepts are heterogeneous)\n",
    "# specify 2 factors\n",
    "homo_covariates=np.array([0]*8)\n",
    "homo_covariates[-1] = 1\n",
    "model = lgt.RandomCoefficientsModel()\n",
    "model.fit(X, y, indiv_id=indiv_id, method='factor-analytic', homo_covariates=homo_covariates, niteration=4, optimizer='L-BFGS-B', nfactors=2)\n",
    "print('rho2: ' + str(lgt.Metrics.rho2(model, X, y)))\n",
    "print('AIC: ' + str(lgt.Metrics.AIC(model)))\n",
    "print('BIC: ' + str(lgt.Metrics.BIC(model)))\n",
    "print('HQC: ' + str(lgt.Metrics.HQC(model)))\n",
    "print('CAIC: ' + str(lgt.Metrics.CAIC(model)))"
   ]
  },
  {
   "cell_type": "markdown",
   "id": "f2ab35b9",
   "metadata": {},
   "source": [
    "# BLP"
   ]
  },
  {
   "cell_type": "code",
   "execution_count": 6,
   "id": "33f9feb5",
   "metadata": {},
   "outputs": [
    {
     "name": "stdout",
     "output_type": "stream",
     "text": [
      "Optimization terminated successfully.\n",
      "         Current function value: 0.000000\n",
      "         Iterations: 4\n",
      "         Function evaluations: 2148\n",
      "Estimated gamma: [ 2.88293233e-01 -3.98075356e-01  8.45357319e-01  2.86070237e+00\n",
      " -1.69930624e+00  8.95296086e-02 -6.11204593e-03  2.42500145e-01\n",
      "  1.27326863e-01  4.51045895e+00  1.20644148e+00  3.57738441e-01\n",
      "  1.18260690e-01 -5.54506497e-02  8.74469604e-02  1.92720285e+00\n",
      "  2.78657520e-03  2.65173174e-01  1.01116616e-01  1.42557126e-01\n",
      "  9.70742717e-02  1.23176789e-01 -2.84524563e-01  1.02165360e-01\n",
      "  9.77894159e-02  1.00743272e-01  8.66577133e-02  9.99040094e-02\n",
      "  1.00357098e-01  9.88845455e-02  9.37484622e-02  9.39884218e-02\n",
      "  1.02638199e-01  9.27541295e-02  9.99425137e-02  9.90863217e-02]\n",
      "Estimated beta: [ -1.98593223  24.56196481  -2.48931653  -5.92840229 -20.16094116\n",
      "  -0.65980159  -0.44915894  -0.75191807]\n",
      "Final loss: 5.068581515161355e-23\n"
     ]
    }
   ],
   "source": [
    "df = pd.read_excel('./Data/CoffeeData.xlsx')\n",
    "D = 50 # 9m 1s if use packages\n",
    "p=4 # alternatives\n",
    "t=114 # time periods\n",
    "nfeatures = 8 # number of product features (including price and intercept)\n",
    "shares = df['Share'].values\n",
    "outside = df['Outside'].values\n",
    "col_instruments = ['Spot 1', 'Spot 2', 'Spot 3', 'Spot 4', 'Spot 5', 'Spot 6']\n",
    "col_endo = ['Price', 'Brand 1', 'Brand 2', 'Brand 3', 'Brand 4']\n",
    "col_exo = ['Feature', 'Display', 'F&D']\n",
    "col_x = col_endo + col_exo\n",
    "X = df[col_x].values\n",
    "Z = df[col_instruments+col_exo].values\n",
    "Z = sm.add_constant(Z)\n",
    "blp_model = lgt.BLP(X, Z, shares, outside, nfeatures, D, t, p)\n",
    "gamma_hat, beta_hat = blp_model.fit()\n",
    "blp_model.summary()"
   ]
  }
 ],
 "metadata": {
  "kernelspec": {
   "display_name": "base",
   "language": "python",
   "name": "python3"
  },
  "language_info": {
   "codemirror_mode": {
    "name": "ipython",
    "version": 3
   },
   "file_extension": ".py",
   "mimetype": "text/x-python",
   "name": "python",
   "nbconvert_exporter": "python",
   "pygments_lexer": "ipython3",
   "version": "3.10.10"
  }
 },
 "nbformat": 4,
 "nbformat_minor": 5
}
