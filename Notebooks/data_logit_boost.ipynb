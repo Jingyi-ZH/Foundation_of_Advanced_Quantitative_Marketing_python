{
 "cells": [
  {
   "cell_type": "code",
   "execution_count": null,
   "id": "5017197d",
   "metadata": {},
   "outputs": [],
   "source": [
    "import os\n",
    "root = \"../../Foundation_of_Advanced_Quantitative_Marketing_Python\"\n",
    "os.chdir(root)"
   ]
  },
  {
   "cell_type": "code",
   "execution_count": null,
   "id": "ce587e20",
   "metadata": {},
   "outputs": [],
   "source": [
    "import numpy as np\n",
    "import pandas as pd\n",
    "import src.logit_boost as lgt\n",
    "from scipy.optimize import minimize\n",
    "import statsmodels.api as sm"
   ]
  },
  {
   "cell_type": "markdown",
   "id": "aa91e3e9",
   "metadata": {},
   "source": [
    "# Logit Model Estimation (Boost)"
   ]
  },
  {
   "cell_type": "code",
   "execution_count": 3,
   "id": "9f3526cd",
   "metadata": {},
   "outputs": [],
   "source": [
    "df = pd.read_excel('./Data/Yogurt100N.xlsx')"
   ]
  },
  {
   "cell_type": "code",
   "execution_count": 4,
   "id": "0cee0f4f",
   "metadata": {},
   "outputs": [
    {
     "data": {
      "text/plain": [
       "((2430, 4, 5), (2430,))"
      ]
     },
     "execution_count": 4,
     "metadata": {},
     "output_type": "execute_result"
    }
   ],
   "source": [
    "p=4 # number of alternatives\n",
    "# construct X and y\n",
    "cols =['Feature 1', 'Price 1', 'Feature 2', 'Price 2',\n",
    "       'Feature 3', 'Price 3', 'Feature 4', 'Price 4']\n",
    "features = df[cols].values\n",
    "N = features.shape[0]\n",
    "# add brand dummies\n",
    "bdummy=np.vstack((np.eye(p-1),np.zeros((p-1,1)).T))\n",
    "bdummy=np.tile(bdummy, (N,1)).reshape(N, p, 3)  # (N*4, 3)\n",
    "# hstack bdummy and features\n",
    "features = features.reshape(N, p, 2)  # (N, 4, 2)\n",
    "features = np.concatenate([bdummy, features], axis=2)  # (N, 4, 5)\n",
    "# features = features.reshape(N, p*5)  # (N, 20)\n",
    "X = features\n",
    "# construct y (choice)\n",
    "brands = df[['Brand 1', 'Brand  2', 'Brand 3', 'Brand 4']].values\n",
    "y = np.argmax(brands, axis=1)\n",
    "X.shape, y.shape"
   ]
  },
  {
   "cell_type": "code",
   "execution_count": 7,
   "id": "04a52bf6",
   "metadata": {},
   "outputs": [
    {
     "name": "stdout",
     "output_type": "stream",
     "text": [
      "Optimized parameters:\n",
      "[  1.38771879   0.64348772  -3.08609284   0.48743071 -37.05722294]\n",
      "Maximized LL: -2658.5566976077034\n"
     ]
    },
    {
     "data": {
      "text/plain": [
       "<logit_boost.LogitModel at 0x16227ad70>"
      ]
     },
     "execution_count": 7,
     "metadata": {},
     "output_type": "execute_result"
    }
   ],
   "source": [
    "model = lgt.LogitModel()\n",
    "model.fit(X, y)"
   ]
  },
  {
   "cell_type": "code",
   "execution_count": 8,
   "id": "ea450fdc",
   "metadata": {},
   "outputs": [
    {
     "name": "stdout",
     "output_type": "stream",
     "text": [
      "0.21080523383523186\n",
      "5327.113395215407\n",
      "5356.09162789708\n",
      "5337.649049630528\n",
      "5327.1381476906545\n"
     ]
    }
   ],
   "source": [
    "print(lgt.Metrics.rho2(model, X, y))\n",
    "print(lgt.Metrics.AIC(model))\n",
    "print(lgt.Metrics.BIC(model))\n",
    "print(lgt.Metrics.HQC(model))\n",
    "print(lgt.Metrics.CAIC(model))"
   ]
  },
  {
   "cell_type": "markdown",
   "id": "09cbca05",
   "metadata": {},
   "source": [
    "# Nested Logit Model Estimation (Boost)\n",
    "The last feature in X should indicate which group the product belongs to"
   ]
  },
  {
   "cell_type": "code",
   "execution_count": null,
   "id": "64766aea",
   "metadata": {},
   "outputs": [],
   "source": [
    "df = pd.read_excel('./Data/Yogurt100N.xlsx')"
   ]
  },
  {
   "cell_type": "code",
   "execution_count": 2,
   "id": "8cfc572f",
   "metadata": {},
   "outputs": [
    {
     "name": "stdout",
     "output_type": "stream",
     "text": [
      "Optimized parameters for features:\n",
      "[  1.38166457   0.83942797  -1.65844414   0.37446579 -26.58064293]\n",
      "Optimized parameters for within-group correlations (rho fixed to 1 for single-alternative groups):\n",
      "[0.6433721 1.       ]\n",
      "Maximized LL: -2653.7645999950555\n"
     ]
    },
    {
     "data": {
      "text/plain": [
       "<logit_boost.NestedLogitModel at 0x16de12f50>"
      ]
     },
     "execution_count": 2,
     "metadata": {},
     "output_type": "execute_result"
    }
   ],
   "source": [
    "p=4 # number of alternatives\n",
    "# construct X and y\n",
    "cols =['Feature 1', 'Price 1', 'Feature 2', 'Price 2',\n",
    "       'Feature 3', 'Price 3', 'Feature 4', 'Price 4']\n",
    "features = df[cols].values\n",
    "N = features.shape[0]\n",
    "# add brand dummies\n",
    "bdummy=np.vstack((np.eye(p-1),np.zeros((p-1,1)).T))\n",
    "bdummy=np.tile(bdummy, (N,1)).reshape(N, p, 3)  # (N*4, 3)\n",
    "# hstack bdummy, group id and features\n",
    "group_ids = np.array([0, 0, 0, 1])  # Group IDs for the nested structure\n",
    "group_ids = np.tile(group_ids, (N, 1)).reshape(N, p, 1)  # (N, 4, 1)\n",
    "features = features.reshape(N, p, 2)  # (N, 4, 2)\n",
    "features = np.concatenate([bdummy, features,group_ids], axis=2)  # (N, 4, 3+2+1=6)\n",
    "# features = features.reshape(N, p*5)  # (N, 20)\n",
    "X = features\n",
    "# construct y (choice)\n",
    "brands = df[['Brand 1', 'Brand  2', 'Brand 3', 'Brand 4']].values\n",
    "y = np.argmax(brands, axis=1)\n",
    "X.shape, y.shape\n",
    "\n",
    "model = lgt.NestedLogitModel()\n",
    "model.fit(X, y, 2)"
   ]
  },
  {
   "cell_type": "code",
   "execution_count": 3,
   "id": "f782c041",
   "metadata": {},
   "outputs": [
    {
     "name": "stdout",
     "output_type": "stream",
     "text": [
      "None\n",
      "5319.529199990111\n",
      "5354.303079208119\n",
      "5332.171985288256\n",
      "5319.5638677573415\n"
     ]
    },
    {
     "name": "stderr",
     "output_type": "stream",
     "text": [
      "/Users/jingyi/Uchi Booth/24 autumn/FQM/Python is all you need/logit_boost.py:19: UserWarning: Invalid model type. Only LogitModel and NestedLogitModel are supported.\n",
      "  warnings.warn(\n"
     ]
    }
   ],
   "source": [
    "print(lgt.Metrics.rho2(model, X, y))\n",
    "print(lgt.Metrics.AIC(model))\n",
    "print(lgt.Metrics.BIC(model))\n",
    "print(lgt.Metrics.HQC(model))\n",
    "print(lgt.Metrics.CAIC(model))"
   ]
  },
  {
   "cell_type": "markdown",
   "id": "a924c470",
   "metadata": {},
   "source": [
    "# LCM Estimation (Boost)\n",
    "Realize global optimization with basinhopping."
   ]
  },
  {
   "cell_type": "code",
   "execution_count": null,
   "id": "c528d18e",
   "metadata": {},
   "outputs": [],
   "source": [
    "df = pd.read_excel('./Data/24_Yogurt100_2SegSolution (1).xlsx')"
   ]
  },
  {
   "cell_type": "code",
   "execution_count": 7,
   "id": "1abe48d0",
   "metadata": {},
   "outputs": [
    {
     "data": {
      "text/plain": [
       "((2431, 4, 5), (2431,))"
      ]
     },
     "execution_count": 7,
     "metadata": {},
     "output_type": "execute_result"
    }
   ],
   "source": [
    "p=4 # number of alternatives\n",
    "# construct X and y\n",
    "cols =['Feature 1', 'Price 1', 'Feature 2', 'Price 2',\n",
    "       'Feature 3', 'Price 3', 'Feature 4', 'Price 4']\n",
    "features = df[cols].values\n",
    "indiv_id = df['Pan I.D.'].values\n",
    "N = features.shape[0]\n",
    "# add brand dummies\n",
    "bdummy=np.vstack((np.eye(p-1),np.zeros((p-1,1)).T))\n",
    "bdummy=np.tile(bdummy, (N,1)).reshape(N, p, 3)  # (N*4, 3)\n",
    "# hstack bdummy and features\n",
    "features = features.reshape(N, p, 2)  # (N, 4, 2)\n",
    "features = np.concatenate([bdummy, features], axis=2)  # (N, 4, 5)\n",
    "# features = features.reshape(N, p*5)  # (N, 20)\n",
    "X = features\n",
    "# construct y (choice)\n",
    "brands = df[['Brand 1', 'Brand  2', 'Brand 3', 'Brand 4']].values\n",
    "y = np.argmax(brands, axis=1)\n",
    "X.shape, y.shape"
   ]
  },
  {
   "cell_type": "code",
   "execution_count": 8,
   "id": "a579f995",
   "metadata": {},
   "outputs": [
    {
     "name": "stdout",
     "output_type": "stream",
     "text": [
      "Current NLL: 1915.8010570305285\n",
      "Current NLL: 1915.801389732527\n",
      "Current NLL: 1915.801568428267\n",
      "Current NLL: 1915.80183900002\n",
      "Current NLL: 1915.8011784194841\n",
      "Current NLL: 1915.8012668323427\n",
      "Current NLL: 1915.8013490753626\n",
      "Current NLL: 1915.8023555551777\n",
      "Current NLL: 1915.8017807024225\n",
      "Current NLL: 1915.8015981865944\n",
      "Current NLL: 1915.8035345491342\n",
      "Optimized parameters for features:\n",
      "[  2.69759036   3.851604    -0.67429236   1.42637642 -50.36673876\n",
      "   1.33362468  -1.29435373  -4.28509319   0.37743458 -36.92107783]\n",
      "Optimized parameters for class weights:\n",
      "[0.48 0.52]\n",
      "Maximized LL: -1915.8010570305285\n",
      "rho2: None\n",
      "AIC: 3853.602114061057\n",
      "BIC: 3917.3587517785345\n",
      "HQC: 3876.7817148578456\n",
      "CAIC: 3853.7112500676712\n"
     ]
    },
    {
     "name": "stderr",
     "output_type": "stream",
     "text": [
      "/Users/jingyi/Uchi Booth/24 autumn/FQM/Python is all you need/logit_boost.py:19: UserWarning: Invalid model type. Only LogitModel and NestedLogitModel are supported.\n",
      "  warnings.warn(\n"
     ]
    }
   ],
   "source": [
    "# Model with two segments\n",
    "model = lgt.LatentClassModel()\n",
    "model.fit(X, y, nclasses=2, indiv_id=indiv_id)\n",
    "print('rho2: ' + str(lgt.Metrics.rho2(model, X, y)))\n",
    "print('AIC: ' + str(lgt.Metrics.AIC(model)))\n",
    "print('BIC: ' + str(lgt.Metrics.BIC(model)))\n",
    "print('HQC: ' + str(lgt.Metrics.HQC(model)))\n",
    "print('CAIC: ' + str(lgt.Metrics.CAIC(model)))"
   ]
  },
  {
   "cell_type": "code",
   "execution_count": 9,
   "id": "905782f2",
   "metadata": {},
   "outputs": [
    {
     "name": "stdout",
     "output_type": "stream",
     "text": [
      "Current NLL: 2116.6379430156594\n",
      "Current NLL: 1482.970166556051\n",
      "Current NLL: 1482.970297127773\n",
      "Current NLL: 1482.9706064401964\n",
      "Current NLL: 1482.9703962444821\n",
      "Current NLL: 1482.970385315409\n",
      "Current NLL: 1482.9706037950482\n",
      "Current NLL: 1482.97040159858\n",
      "Current NLL: 1482.970351111512\n",
      "Current NLL: 1482.9702597760977\n",
      "Current NLL: 1482.9715240454175\n",
      "Optimized parameters for features:\n",
      "[  1.96793072   3.00790978  -1.64951561   1.3138889  -55.5036127\n",
      "  -1.08695703  -2.64055436  -6.07560053   1.06041544 -20.21212096\n",
      "   5.14330687   1.40374083  -1.84276375  -0.18441237 -57.47661284]\n",
      "Optimized parameters for class weights:\n",
      "[0.51 0.15 0.34]\n",
      "Maximized LL: -1482.970166556051\n",
      "rho2: None\n",
      "AIC: 2999.940333112102\n",
      "BIC: 3098.473318675476\n",
      "HQC: 3035.763352525321\n",
      "CAIC: 3000.193959303565\n"
     ]
    }
   ],
   "source": [
    "# model with three segments\n",
    "model = lgt.LatentClassModel()\n",
    "model.fit(X, y, nclasses=3, indiv_id=indiv_id)\n",
    "print('rho2: ' + str(lgt.Metrics.rho2(model, X, y)))\n",
    "print('AIC: ' + str(lgt.Metrics.AIC(model)))\n",
    "print('BIC: ' + str(lgt.Metrics.BIC(model)))\n",
    "print('HQC: ' + str(lgt.Metrics.HQC(model)))\n",
    "print('CAIC: ' + str(lgt.Metrics.CAIC(model)))"
   ]
  },
  {
   "cell_type": "code",
   "execution_count": 11,
   "id": "02d64b5b",
   "metadata": {},
   "outputs": [
    {
     "name": "stdout",
     "output_type": "stream",
     "text": [
      "Current NLL: 1482.9702170716093\n",
      "Current NLL: 1389.9894195265692\n",
      "Current NLL: 1389.989653130758\n",
      "Current NLL: 1389.9894299029115\n",
      "Current NLL: 1389.9894547444856\n",
      "Current NLL: 1389.9894151773676\n",
      "Current NLL: 1389.9895227591794\n",
      "Current NLL: 1389.9894064778446\n",
      "Current NLL: 1389.989584149271\n",
      "Current NLL: 1389.9896538526275\n",
      "Current NLL: 1389.9898836949592\n",
      "Optimized parameters for features:\n",
      "[  1.07062746   0.22291928  -2.43501502   1.00905052 -49.64068872\n",
      "   2.34977431   4.06566956  -0.89394665   0.92561599 -41.00371026\n",
      "  -1.45285263  -4.00400037 -21.53700673   1.09529151 -14.75996321\n",
      "   5.17381596   1.41804757  -1.87235359  -0.18633601 -56.29386205]\n",
      "Optimized parameters for class weights:\n",
      "[0.21 0.37 0.09 0.33]\n",
      "Maximized LL: -1389.9894064778446\n",
      "rho2: None\n",
      "AIC: 2825.978812955689\n",
      "BIC: 2959.28814636496\n",
      "HQC: 2874.445250985338\n",
      "CAIC: 2826.4374751908367\n"
     ]
    }
   ],
   "source": [
    "# model with four segments\n",
    "model = lgt.LatentClassModel()\n",
    "model.fit(X, y, nclasses=4, indiv_id=indiv_id)\n",
    "print('rho2: ' + str(lgt.Metrics.rho2(model, X, y)))\n",
    "print('AIC: ' + str(lgt.Metrics.AIC(model)))\n",
    "print('BIC: ' + str(lgt.Metrics.BIC(model)))\n",
    "print('HQC: ' + str(lgt.Metrics.HQC(model)))\n",
    "print('CAIC: ' + str(lgt.Metrics.CAIC(model)))"
   ]
  },
  {
   "cell_type": "code",
   "execution_count": 12,
   "id": "e633dd46",
   "metadata": {},
   "outputs": [
    {
     "data": {
      "text/plain": [
       "array([1, 2, 0, 0, 1, 2, 1, 1, 3, 1, 0, 1, 0, 3, 2, 2, 3, 2, 1, 3, 0, 3,\n",
       "       1, 1, 0, 1, 1, 1, 1, 0, 3, 3, 1, 3, 1, 3, 1, 3, 0, 3, 1, 0, 3, 1,\n",
       "       3, 3, 3, 3, 0, 1, 1, 1, 0, 1, 3, 0, 0, 1, 3, 1, 3, 1, 0, 2, 3, 1,\n",
       "       3, 1, 1, 2, 3, 1, 3, 1, 0, 0, 1, 1, 3, 3, 2, 1, 1, 0, 3, 1, 0, 3,\n",
       "       0, 3, 3, 1, 2, 3, 3, 1, 2, 3, 3, 0, 1])"
      ]
     },
     "execution_count": 12,
     "metadata": {},
     "output_type": "execute_result"
    }
   ],
   "source": [
    "# assign segemt (0-3) to 101 households\n",
    "model.segment_assign()"
   ]
  },
  {
   "cell_type": "markdown",
   "id": "61ad33f3",
   "metadata": {},
   "source": [
    "# Random Coefficients Model (Boost)"
   ]
  },
  {
   "cell_type": "code",
   "execution_count": null,
   "id": "7afd9f95",
   "metadata": {},
   "outputs": [],
   "source": [
    "df = pd.read_excel('./Data/24_Yogurt100N_MVN.xlsx')\n",
    "df = df[:2430]"
   ]
  },
  {
   "cell_type": "code",
   "execution_count": 14,
   "id": "2b1bd4fc",
   "metadata": {},
   "outputs": [
    {
     "data": {
      "text/plain": [
       "((2430, 4, 5), (2430,))"
      ]
     },
     "execution_count": 14,
     "metadata": {},
     "output_type": "execute_result"
    }
   ],
   "source": [
    "p=4 # number of alternatives\n",
    "# construct X and y\n",
    "cols =['Feature 1', 'Price 1', 'Feature 2', 'Price 2',\n",
    "       'Feature 3', 'Price 3', 'Feature 4', 'Price 4']\n",
    "features = df[cols].values\n",
    "indiv_id = df['Pan I.D.'].values\n",
    "N = features.shape[0]\n",
    "# add brand dummies\n",
    "bdummy=np.vstack((np.eye(p-1),np.zeros((p-1,1)).T))\n",
    "bdummy=np.tile(bdummy, (N,1)).reshape(N, p, 3)  # (N*4, 3)\n",
    "# hstack bdummy and features\n",
    "features = features.reshape(N, p, 2)  # (N, 4, 2)\n",
    "features = np.concatenate([bdummy, features], axis=2)  # (N, 4, 5)\n",
    "# features = features.reshape(N, p*5)  # (N, 20)\n",
    "X = features\n",
    "# construct y (choice)\n",
    "brands = df[['Brand 1', 'Brand  2', 'Brand 3', 'Brand 4']].values\n",
    "y = np.argmax(brands, axis=1)\n",
    "X.shape, y.shape"
   ]
  },
  {
   "cell_type": "code",
   "execution_count": null,
   "id": "7ac296c5",
   "metadata": {},
   "outputs": [
    {
     "name": "stdout",
     "output_type": "stream",
     "text": [
      "Current NLL: 1277.5907832082403\n",
      "Current NLL: 1277.2231836447797\n",
      "Current NLL: 1276.8411693064895\n",
      "Current NLL: 1277.0819305846824\n",
      "Current NLL: 1277.074483986604\n",
      "Current NLL: 1276.8880155085885\n",
      "Maximized LL: -1276.8411693064895\n",
      "The means of the coefficients are: [  4.84263851   3.38793614  -0.73182192   0.66088996 -48.55973706]\n",
      "The standard deviations of the coefficients are: [ 3.95411324  5.59486938  3.52532925  0.6074086  96.44920302]\n",
      "The covariance matrix of the coefficients is: [[ 1.56350116e+01  9.87862695e+00  1.01959209e+01 -9.12836230e-01\n",
      "  -3.69384188e+01]\n",
      " [ 9.87862695e+00  3.13025634e+01  1.58460809e+01 -2.55786627e+00\n",
      "  -3.74650990e+02]\n",
      " [ 1.01959209e+01  1.58460809e+01  1.24279463e+01 -8.54530647e-01\n",
      "  -1.89462996e+02]\n",
      " [-9.12836230e-01 -2.55786627e+00 -8.54530647e-01  3.68945203e-01\n",
      "   2.67406001e+01]\n",
      " [-3.69384188e+01 -3.74650990e+02 -1.89462996e+02  2.67406001e+01\n",
      "   9.30244876e+03]]\n",
      "rho2: None\n",
      "AIC: 2593.682338612979\n",
      "BIC: 2709.5952693396707\n",
      "HQC: 2635.824956273463\n",
      "CAIC: 2594.031031016466\n"
     ]
    },
    {
     "name": "stderr",
     "output_type": "stream",
     "text": [
      "/Users/jingyi/Uchi Booth/24 autumn/FQM/Python is all you need/logit_boost.py:19: UserWarning: Invalid model type. Only LogitModel and NestedLogitModel are supported.\n",
      "  warnings.warn(\n"
     ]
    }
   ],
   "source": [
    "# random coefficients model (10 draws by default)\n",
    "model = lgt.RandomCoefficientsModel()\n",
    "model.fit(X, y, indiv_id=indiv_id)\n",
    "# print('rho2: ' + str(lgt.Metrics.rho2(model, X, y)))\n",
    "print('AIC: ' + str(lgt.Metrics.AIC(model)))\n",
    "print('BIC: ' + str(lgt.Metrics.BIC(model)))\n",
    "print('HQC: ' + str(lgt.Metrics.HQC(model)))\n",
    "print('CAIC: ' + str(lgt.Metrics.CAIC(model)))"
   ]
  },
  {
   "cell_type": "code",
   "execution_count": null,
   "id": "469c6826",
   "metadata": {},
   "outputs": [
    {
     "name": "stdout",
     "output_type": "stream",
     "text": [
      "Current NLL: 1218.0075071719389\n",
      "Current NLL: 1218.0443885910918\n",
      "Current NLL: 1210.1797772702614\n",
      "Current NLL: 1209.9179194295864\n",
      "Current NLL: 1207.9338593499235\n",
      "Current NLL: 1207.8201541286119\n",
      "Maximized LL: -1207.8201541286119\n",
      "The means of the coefficients are: [  2.81347776   1.65963836  -3.64035468   1.04148219 -56.61998503]\n",
      "The standard deviations of the coefficients are: [ 4.28511325  4.46455369  4.36708524  0.8420437  32.8980775 ]\n",
      "The covariance matrix of the coefficients is: [[ 1.83621955e+01  5.85715833e+00  7.14378488e+00  1.57810923e-02\n",
      "  -6.74282006e+01]\n",
      " [ 5.85715833e+00  1.99322396e+01  1.62666124e+01 -2.44717146e-02\n",
      "   1.38030041e+01]\n",
      " [ 7.14378488e+00  1.62666124e+01  1.90714335e+01 -2.85609920e-01\n",
      "  -8.71937172e+00]\n",
      " [ 1.57810923e-02 -2.44717146e-02 -2.85609920e-01  7.09037586e-01\n",
      "  -6.90536775e+00]\n",
      " [-6.74282006e+01  1.38030041e+01 -8.71937172e+00 -6.90536775e+00\n",
      "   1.08228350e+03]]\n",
      "rho2: None\n",
      "AIC: 2455.6403082572238\n",
      "BIC: 2571.5532389839154\n",
      "HQC: 2497.782925917708\n",
      "CAIC: 2455.9890006607106\n"
     ]
    }
   ],
   "source": [
    "# random coefficients model (100 draws)\n",
    "model = lgt.RandomCoefficientsModel()\n",
    "model.fit(X, y, indiv_id=indiv_id, draws=100)\n",
    "print('rho2: ' + str(lgt.Metrics.rho2(model, X, y)))\n",
    "print('AIC: ' + str(lgt.Metrics.AIC(model)))\n",
    "print('BIC: ' + str(lgt.Metrics.BIC(model)))\n",
    "print('HQC: ' + str(lgt.Metrics.HQC(model)))\n",
    "print('CAIC: ' + str(lgt.Metrics.CAIC(model)))"
   ]
  },
  {
   "cell_type": "markdown",
   "id": "5e8b6778",
   "metadata": {},
   "source": [
    "## apply factor analysis with random coefficient model"
   ]
  },
  {
   "cell_type": "code",
   "execution_count": 1,
   "id": "dee8e9a5",
   "metadata": {},
   "outputs": [],
   "source": [
    "import numpy as np\n",
    "import pandas as pd\n",
    "import logit_boost as lgt\n",
    "from scipy.optimize import minimize\n",
    "df = pd.read_excel('./Data/OJ300_OnlyPurchases_Brand Map_Cts.xlsx')\n",
    "df = df[:2066]"
   ]
  },
  {
   "cell_type": "code",
   "execution_count": 2,
   "id": "1c4bf091",
   "metadata": {},
   "outputs": [
    {
     "data": {
      "text/plain": [
       "((2066, 8, 8), (2066,))"
      ]
     },
     "execution_count": 2,
     "metadata": {},
     "output_type": "execute_result"
    }
   ],
   "source": [
    "p=8 # number of alternatives\n",
    "# construct X and y\n",
    "cols =[ 'price1', 'price2', 'price3', 'price4', 'price5', 'price6', 'price7', 'price8']\n",
    "features = df[cols].values\n",
    "indiv_id = df['panid'].values\n",
    "N = features.shape[0]\n",
    "# add brand dummies\n",
    "bdummy=np.vstack((np.eye(p-1),np.zeros((p-1,1)).T))\n",
    "bdummy=np.tile(bdummy, (N,1)).reshape(N, p, -1)\n",
    "# hstack bdummy and features\n",
    "features = features.reshape(N, p, -1)  # (N, 8, 2)\n",
    "features = np.concatenate([bdummy, features], axis=2)  # (N, 8, 5)\n",
    "X = features\n",
    "# construct y (choice)\n",
    "brands = df[['br1', 'br2', 'br3', 'br4', 'br5', 'br6', 'br7', 'br8']].values\n",
    "y = np.argmax(brands, axis=1)\n",
    "X.shape, y.shape"
   ]
  },
  {
   "cell_type": "code",
   "execution_count": 25,
   "id": "f26f6215",
   "metadata": {},
   "outputs": [
    {
     "name": "stdout",
     "output_type": "stream",
     "text": [
      "Current NLL: 2890.349837685409\n",
      "Current NLL: 2890.3498413978386\n",
      "Current NLL: 2890.3499068431806\n",
      "Current NLL: 2890.3498400603216\n",
      "Current NLL: 2890.349836955289\n",
      "current BIC:  5895.200218655772\n",
      "Current NLL: 2258.1496114756706\n",
      "Current NLL: 2258.1496003726234\n",
      "Current NLL: 2258.1496688845637\n",
      "Current NLL: 2258.1495496643647\n",
      "Current NLL: 2258.1496157708725\n",
      "current BIC:  4676.599861972\n",
      "Current NLL: 2115.849916473504\n",
      "Current NLL: 2112.5439162174384\n",
      "Current NLL: 2115.8498839563454\n",
      "Current NLL: 2112.5438047140124\n",
      "Current NLL: 2112.543965299235\n",
      "current BIC:  4431.188589969373\n",
      "Current NLL: 2018.600279490454\n",
      "Current NLL: 2011.7908143818327\n",
      "Current NLL: 2011.7907819620125\n",
      "Current NLL: 2011.790976894939\n",
      "Current NLL: 2011.7910177148997\n",
      "current BIC:  4275.482762363451\n",
      "Current NLL: 1934.487444995362\n",
      "Current NLL: 1934.143220995153\n",
      "Current NLL: 1934.141185824583\n",
      "Current NLL: 1934.1391696032183\n",
      "Current NLL: 1934.1397072476211\n",
      "current BIC:  4165.97975554394\n",
      "Current NLL: 1991.1236030484451\n",
      "Current NLL: 1989.4800707407262\n",
      "Current NLL: 1989.4801314044405\n",
      "Current NLL: 1989.4800538375234\n",
      "Current NLL: 1989.4797283598891\n",
      "current BIC:  4322.461090955359\n",
      "Maximized LL: -1934.1391696032183\n",
      "The optimal number of factors is: 5\n",
      "The means of the coefficients are: [-1.63580604e+00 -2.74820384e+00 -7.82096258e+00  2.88888172e-03\n",
      " -2.29660505e+00 -2.11683925e+00 -1.58015871e+00 -1.29936770e+00]\n",
      "The standard deviations of the coefficients are: [36.24554302 17.04181994 19.62735877 21.69283956 11.68414138 55.47616201\n",
      "  1.05424194  0.        ]\n",
      "The covariance matrix of the coefficients is: [[ 1.31373939e+03 -2.98803842e+02 -1.91000392e+02  7.80928378e+02\n",
      "  -3.78286722e+02  1.93939605e+03  4.67652823e+00  0.00000000e+00]\n",
      " [-2.98803842e+02  2.90423627e+02 -1.89260748e+02 -1.65427563e+02\n",
      "   1.34809028e+02 -6.50614223e+02 -3.77760880e+00  0.00000000e+00]\n",
      " [-1.91000392e+02 -1.89260748e+02  3.85233212e+02 -1.15377274e+02\n",
      "   2.42627460e+01 -2.35630509e+01  3.48104276e+00  0.00000000e+00]\n",
      " [ 7.80928378e+02 -1.65427563e+02 -1.15377274e+02  4.70579288e+02\n",
      "  -2.27988384e+02  1.14275157e+03  3.29901503e+00  0.00000000e+00]\n",
      " [-3.78286722e+02  1.34809028e+02  2.42627460e+01 -2.27988384e+02\n",
      "   1.36519160e+02 -5.94551144e+02 -3.27124197e+00  0.00000000e+00]\n",
      " [ 1.93939605e+03 -6.50614223e+02 -2.35630509e+01  1.14275157e+03\n",
      "  -5.94551144e+02  3.07760455e+03  1.12325187e+01  0.00000000e+00]\n",
      " [ 4.67652823e+00 -3.77760880e+00  3.48104276e+00  3.29901503e+00\n",
      "  -3.27124197e+00  1.12325187e+01  1.11142606e+00  0.00000000e+00]\n",
      " [ 0.00000000e+00  0.00000000e+00  0.00000000e+00  0.00000000e+00\n",
      "   0.00000000e+00  0.00000000e+00  0.00000000e+00  0.00000000e+00]]\n",
      "rho2: None\n",
      "AIC: 3946.2783392064366\n",
      "BIC: 4165.97975554394\n",
      "HQC: 4026.8156308059324\n",
      "CAIC: 3947.8183194631\n"
     ]
    }
   ],
   "source": [
    "# apply factor analysis with random coefficient model (assume price is a homogeneous attribute but seven brand intercepts are heterogeneous)\n",
    "homo_covariates=np.array([0]*8)\n",
    "homo_covariates[-1] = 1\n",
    "model = lgt.RandomCoefficientsModel()\n",
    "model.fit(X, y, indiv_id=indiv_id, method='factor-analytic', homo_covariates=homo_covariates, niteration=4, optimizer='L-BFGS-B')\n",
    "print('rho2: ' + str(lgt.Metrics.rho2(model, X, y)))\n",
    "print('AIC: ' + str(lgt.Metrics.AIC(model)))\n",
    "print('BIC: ' + str(lgt.Metrics.BIC(model)))\n",
    "print('HQC: ' + str(lgt.Metrics.HQC(model)))\n",
    "print('CAIC: ' + str(lgt.Metrics.CAIC(model)))"
   ]
  },
  {
   "cell_type": "code",
   "execution_count": 4,
   "id": "52598f4e",
   "metadata": {},
   "outputs": [
    {
     "name": "stdout",
     "output_type": "stream",
     "text": [
      "Using factor-analytic method with 2 factors.\n",
      "Current NLL: 1947.7134843098036\n",
      "Current NLL: 1947.3485401665957\n",
      "Current NLL: 1946.734378562523\n",
      "Current NLL: 1946.8930571245746\n",
      "Current NLL: 1946.8715683195253\n",
      "BIC:  4053.7695197683174\n",
      "Maximized LL: -1946.734378562523\n",
      "The optimal number of factors is: 2\n",
      "The means of the coefficients are: [-0.39624581  0.57941132 -3.1183935   1.77456347 -0.4728011  -0.89518217\n",
      " -2.27108348 -0.95209345]\n",
      "The standard deviations of the coefficients are: [11.82068391 11.09779041  5.93910658 11.14551463  3.40421758 12.76247597\n",
      "  1.10570064  0.        ]\n",
      "The covariance matrix of the coefficients is: [[139.72856809 124.67071769 -12.41107821 108.12159722  34.07361055\n",
      "  142.69459093 -12.43661678   0.        ]\n",
      " [124.67071769 123.16095207   9.11296263 118.46243539  24.14778183\n",
      "  141.62117221  -9.92202393   0.        ]\n",
      " [-12.41107821   9.11296263  35.27298697  27.62403337 -13.61271551\n",
      "   11.53853579   3.09254221   0.        ]\n",
      " [108.12159722 118.46243539  27.62403337 124.2224963   14.83276612\n",
      "  136.79599785  -7.45768628   0.        ]\n",
      " [ 34.07361055  24.14778183 -13.61271551  14.83276612  11.58869733\n",
      "   27.29557784  -3.64859646   0.        ]\n",
      " [142.69459093 141.62117221  11.53853579 136.79599785  27.29557784\n",
      "  162.88079285 -11.29200517   0.        ]\n",
      " [-12.43661678  -9.92202393   3.09254221  -7.45768628  -3.64859646\n",
      "  -11.29200517   1.2225739    0.        ]\n",
      " [  0.           0.           0.           0.           0.\n",
      "    0.           0.           0.        ]]\n",
      "rho2: None\n",
      "AIC: 3935.468757125046\n",
      "BIC: 4053.7695197683174\n",
      "HQC: 3978.834991063236\n",
      "CAIC: 3935.9208119195664\n"
     ]
    }
   ],
   "source": [
    "# apply factor analysis with random coefficient model (assume price is a homogeneous attribute but seven brand intercepts are heterogeneous)\n",
    "# specify 2 factors\n",
    "homo_covariates=np.array([0]*8)\n",
    "homo_covariates[-1] = 1\n",
    "model = lgt.RandomCoefficientsModel()\n",
    "model.fit(X, y, indiv_id=indiv_id, method='factor-analytic', homo_covariates=homo_covariates, niteration=4, optimizer='Powell', nfactors=2)\n",
    "print('rho2: ' + str(lgt.Metrics.rho2(model, X, y)))\n",
    "print('AIC: ' + str(lgt.Metrics.AIC(model)))\n",
    "print('BIC: ' + str(lgt.Metrics.BIC(model)))\n",
    "print('HQC: ' + str(lgt.Metrics.HQC(model)))\n",
    "print('CAIC: ' + str(lgt.Metrics.CAIC(model)))"
   ]
  },
  {
   "cell_type": "markdown",
   "id": "ddad3b14",
   "metadata": {},
   "source": [
    "# BLP (boost)"
   ]
  },
  {
   "cell_type": "code",
   "execution_count": null,
   "id": "88c43cec",
   "metadata": {},
   "outputs": [
    {
     "name": "stderr",
     "output_type": "stream",
     "text": [
      " This problem is unconstrained.\n"
     ]
    },
    {
     "name": "stdout",
     "output_type": "stream",
     "text": [
      "RUNNING THE L-BFGS-B CODE\n",
      "\n",
      "           * * *\n",
      "\n",
      "Machine precision = 2.220D-16\n",
      " N =           36     M =           10\n",
      "\n",
      "At X0         0 variables are exactly at the bounds\n",
      "\n",
      "At iterate    0    f=  8.18192D+00    |proj g|=  1.09789D+02\n",
      "\n",
      "At iterate    1    f=  7.56787D+00    |proj g|=  6.95488D+01\n",
      "\n",
      "At iterate    2    f=  7.22202D+00    |proj g|=  6.32109D+01\n",
      "\n",
      "At iterate    3    f=  5.38299D+00    |proj g|=  5.25692D+01\n",
      "\n",
      "At iterate    4    f=  4.34839D+00    |proj g|=  4.99217D+01\n",
      "\n",
      "At iterate    5    f=  3.80387D+00    |proj g|=  4.38012D+01\n",
      "\n",
      "At iterate    6    f=  3.35262D+00    |proj g|=  2.98633D+01\n",
      "\n",
      "At iterate    7    f=  2.52300D+00    |proj g|=  1.67628D+01\n",
      "\n",
      "At iterate    8    f=  2.37227D+00    |proj g|=  4.84201D+01\n",
      "\n",
      "At iterate    9    f=  1.95169D+00    |proj g|=  2.01080D+01\n",
      "\n",
      "At iterate   10    f=  1.55874D+00    |proj g|=  4.55512D+01\n",
      "\n",
      "At iterate   11    f=  1.34552D+00    |proj g|=  3.61234D+01\n",
      "\n",
      "At iterate   12    f=  1.28845D+00    |proj g|=  2.98637D+01\n",
      "\n",
      "At iterate   13    f=  1.16091D+00    |proj g|=  7.00807D+00\n",
      "\n",
      "At iterate   14    f=  1.12892D+00    |proj g|=  4.44788D+00\n",
      "\n",
      "At iterate   15    f=  1.06224D+00    |proj g|=  6.92119D+00\n",
      "\n",
      "At iterate   16    f=  9.09408D-01    |proj g|=  6.72815D+00\n",
      "\n",
      "At iterate   17    f=  5.46710D-01    |proj g|=  8.29010D+00\n",
      "\n",
      "At iterate   18    f=  4.60826D-01    |proj g|=  1.36115D+01\n",
      "\n",
      "At iterate   19    f=  2.15735D-01    |proj g|=  1.04099D+01\n",
      "\n",
      "At iterate   20    f=  4.16241D-02    |proj g|=  4.09768D+00\n",
      "\n",
      "At iterate   21    f=  8.52791D-03    |proj g|=  1.22481D+00\n",
      "\n",
      "At iterate   22    f=  6.44042D-04    |proj g|=  5.57256D-01\n",
      "\n",
      "At iterate   23    f=  2.12061D-05    |proj g|=  2.22816D-01\n",
      "\n",
      "At iterate   24    f=  6.45213D-06    |proj g|=  1.28425D-01\n",
      "\n",
      "At iterate   25    f=  1.82926D-10    |proj g|=  6.72976D-04\n",
      "\n",
      "At iterate   26    f=  4.34724D-15    |proj g|=  8.51605D-06\n",
      "\n",
      "           * * *\n",
      "\n",
      "Tit   = total number of iterations\n",
      "Tnf   = total number of function evaluations\n",
      "Tnint = total number of segments explored during Cauchy searches\n",
      "Skip  = number of BFGS updates skipped\n",
      "Nact  = number of active bounds at final generalized Cauchy point\n",
      "Projg = norm of the final projected gradient\n",
      "F     = final function value\n",
      "\n",
      "           * * *\n",
      "\n",
      "   N    Tit     Tnf  Tnint  Skip  Nact     Projg        F\n",
      "   36     26     33      1     0     0   8.516D-06   4.347D-15\n",
      "  F =   4.3472410256530875E-015\n",
      "\n",
      "CONVERGENCE: NORM_OF_PROJECTED_GRADIENT_<=_PGTOL            \n",
      "Estimated gamma: [ 0.39463448  0.13796132  0.17827902  0.0863547   0.06439677  0.04796343\n",
      " -0.03914608  0.11576445  0.09344534  0.12058697  0.11385007  0.08054807\n",
      "  0.15286312 -0.02386207  0.11260004  0.16740443  0.11312083  0.08935534\n",
      "  0.15588619 -0.03135041  0.18549902  0.12545614  0.12214779  0.15349082\n",
      "  0.09874566  0.13765403  0.08759173  0.09770813 -0.12883121  0.10299429\n",
      "  0.11103917  0.15518009 -0.09278287  0.11415384  0.18183275  0.1250644 ]\n",
      "Estimated beta: [ -2.67804016  14.45973613  13.05369654   6.62228605 -19.89806458\n",
      "  -0.46649292  -0.37602223  -0.81190866]\n",
      "Final loss: 4.3472410256530875e-15\n"
     ]
    }
   ],
   "source": [
    "df = pd.read_excel('./Data/CoffeeData.xlsx')\n",
    "D = 50 # 9m 1s if use packages\n",
    "p=4 # alternatives\n",
    "t=114 # time periods\n",
    "nfeatures = 8 # number of product features (including price and intercept)\n",
    "shares = df['Share'].values\n",
    "outside = df['Outside'].values\n",
    "col_instruments = ['Spot 1', 'Spot 2', 'Spot 3', 'Spot 4', 'Spot 5', 'Spot 6']\n",
    "col_endo = ['Price', 'Brand 1', 'Brand 2', 'Brand 3', 'Brand 4']\n",
    "col_exo = ['Feature', 'Display', 'F&D']\n",
    "col_x = col_endo + col_exo\n",
    "X = df[col_x].values\n",
    "Z = df[col_instruments+col_exo].values\n",
    "Z = sm.add_constant(Z)\n",
    "blp_model = lgt.BLP(X, Z, shares, outside, nfeatures, D, t, p)\n",
    "gamma_hat, beta_hat = blp_model.fit()\n",
    "blp_model.summary()"
   ]
  },
  {
   "cell_type": "code",
   "execution_count": null,
   "id": "cc9a23b7",
   "metadata": {},
   "outputs": [
    {
     "name": "stdout",
     "output_type": "stream",
     "text": [
      "RUNNING THE L-BFGS-B CODE\n",
      "\n",
      "           * * *\n",
      "\n",
      "Machine precision = 2.220D-16\n",
      " N =           36     M =           10\n",
      "\n",
      "At X0         0 variables are exactly at the bounds\n",
      "\n",
      "At iterate    0    f=  1.23629D+01    |proj g|=  2.49454D+02\n"
     ]
    },
    {
     "name": "stderr",
     "output_type": "stream",
     "text": [
      " This problem is unconstrained.\n"
     ]
    },
    {
     "name": "stdout",
     "output_type": "stream",
     "text": [
      "\n",
      "At iterate    1    f=  6.97355D+00    |proj g|=  1.37503D+02\n",
      "\n",
      "At iterate    2    f=  5.75338D+00    |proj g|=  2.21668D+01\n",
      "\n",
      "At iterate    3    f=  5.65402D+00    |proj g|=  2.04579D+01\n",
      "\n",
      "At iterate    4    f=  5.23374D+00    |proj g|=  3.49521D+01\n",
      "\n",
      "At iterate    5    f=  5.00529D+00    |proj g|=  2.51370D+01\n",
      "\n",
      "At iterate    6    f=  2.93898D+00    |proj g|=  4.08783D+01\n",
      "\n",
      "At iterate    7    f=  2.91967D+00    |proj g|=  5.02575D+01\n",
      "\n",
      "At iterate    8    f=  2.72712D+00    |proj g|=  4.17499D+01\n",
      "\n",
      "At iterate    9    f=  2.21879D+00    |proj g|=  1.03883D+01\n",
      "\n",
      "At iterate   10    f=  2.10720D+00    |proj g|=  8.67722D+00\n",
      "\n",
      "At iterate   11    f=  1.98188D+00    |proj g|=  8.21322D+00\n",
      "\n",
      "At iterate   12    f=  1.84421D+00    |proj g|=  2.08596D+01\n",
      "\n",
      "At iterate   13    f=  1.65182D+00    |proj g|=  1.75022D+01\n",
      "\n",
      "At iterate   14    f=  1.43560D+00    |proj g|=  5.83788D+00\n",
      "\n",
      "At iterate   15    f=  1.33901D+00    |proj g|=  8.64141D+00\n",
      "\n",
      "At iterate   16    f=  1.25156D+00    |proj g|=  5.98023D+00\n",
      "\n",
      "At iterate   17    f=  1.14708D+00    |proj g|=  1.45055D+01\n",
      "\n",
      "At iterate   18    f=  9.55443D-01    |proj g|=  2.72551D+01\n",
      "\n",
      "At iterate   19    f=  1.42904D-01    |proj g|=  1.71237D+01\n",
      "\n",
      "At iterate   20    f=  5.11813D-02    |proj g|=  9.58173D+00\n",
      "\n",
      "At iterate   21    f=  1.52917D-02    |proj g|=  5.06076D+00\n",
      "\n",
      "At iterate   22    f=  1.52819D-04    |proj g|=  4.60752D-01\n",
      "\n",
      "At iterate   23    f=  2.18504D-05    |proj g|=  1.50433D-01\n",
      "\n",
      "At iterate   24    f=  2.67597D-09    |proj g|=  1.41401D-03\n",
      "\n",
      "Estimated gamma: [ 0.33225212  0.08077807  0.17158019  0.143304    0.08283135  0.14259936\n",
      "  0.02039275  0.26272177 -0.01254056  0.2466869   0.2122864   0.16963058\n",
      "  0.11759996 -0.04291711  0.16178155  0.11396875  0.04081778  0.07972788\n",
      "  0.0242688   0.07352828 -0.08388212  0.11424163 -0.0182946  -0.05132044\n",
      " -0.22481324  0.23413167  0.13109459 -0.08216028  0.24961746 -0.06350413\n",
      "  0.22632767  0.03156396  0.1018018   0.08375035 -0.10240417  0.0996917 ]\n",
      "Estimated beta: [ -2.14129092  12.58328093  11.86224346   5.69395541 -20.07684508\n",
      "  -0.44203436  -0.49240553  -0.40204642]\n",
      "Final loss: 1.7914017257157713e-13\n",
      "At iterate   25    f=  1.79140D-13    |proj g|=  9.70877D-06\n",
      "\n",
      "           * * *\n",
      "\n",
      "Tit   = total number of iterations\n",
      "Tnf   = total number of function evaluations\n",
      "Tnint = total number of segments explored during Cauchy searches\n",
      "Skip  = number of BFGS updates skipped\n",
      "Nact  = number of active bounds at final generalized Cauchy point\n",
      "Projg = norm of the final projected gradient\n",
      "F     = final function value\n",
      "\n",
      "           * * *\n",
      "\n",
      "   N    Tit     Tnf  Tnint  Skip  Nact     Projg        F\n",
      "   36     25     38      1     0     0   9.709D-06   1.791D-13\n",
      "  F =   1.7914017257157713E-013\n",
      "\n",
      "CONVERGENCE: NORM_OF_PROJECTED_GRADIENT_<=_PGTOL            \n"
     ]
    }
   ],
   "source": [
    "import logit_boost as lgt\n",
    "import pandas as pd\n",
    "import numpy as np\n",
    "import statsmodels.api as sm\n",
    "df = pd.read_excel('./Data/CoffeeData.xlsx')\n",
    "D = 50 # takes 2m 13.3s if use closed-form solution\n",
    "p=4 # alternatives\n",
    "t=114 # time periods\n",
    "nfeatures = 8 # number of product features (including price and intercept)\n",
    "shares = df['Share'].values\n",
    "outside = df['Outside'].values\n",
    "col_instruments = ['Spot 1', 'Spot 2', 'Spot 3', 'Spot 4', 'Spot 5', 'Spot 6']\n",
    "col_endo = ['Price', 'Brand 1', 'Brand 2', 'Brand 3', 'Brand 4']\n",
    "col_exo = ['Feature', 'Display', 'F&D']\n",
    "col_x = col_endo + col_exo\n",
    "X = df[col_x].values\n",
    "Z = df[col_instruments+col_exo].values\n",
    "Z = sm.add_constant(Z)\n",
    "blp_model = lgt.BLP(X, Z, shares, outside, nfeatures, D, t, p)\n",
    "gamma_hat, beta_hat = blp_model.fit()\n",
    "blp_model.summary()"
   ]
  },
  {
   "cell_type": "code",
   "execution_count": null,
   "id": "f7c141ac",
   "metadata": {},
   "outputs": [
    {
     "name": "stdout",
     "output_type": "stream",
     "text": [
      "Estimated gamma: [ 0.33225212  0.08077807  0.17158019  0.143304    0.08283135  0.14259936\n",
      "  0.02039275  0.26272177 -0.01254056  0.2466869   0.2122864   0.16963058\n",
      "  0.11759996 -0.04291711  0.16178155  0.11396875  0.04081778  0.07972788\n",
      "  0.0242688   0.07352828 -0.08388212  0.11424163 -0.0182946  -0.05132044\n",
      " -0.22481324  0.23413167  0.13109459 -0.08216028  0.24961746 -0.06350413\n",
      "  0.22632767  0.03156396  0.1018018   0.08375035 -0.10240417  0.0996917 ]\n",
      "Estimated beta: [ -2.14129092  12.58328093  11.86224346   5.69395541 -20.07684508\n",
      "  -0.44203436  -0.49240553  -0.40204642]\n",
      "Final loss: 1.7914017257157713e-13\n"
     ]
    }
   ],
   "source": [
    "blp_model.summary()"
   ]
  },
  {
   "cell_type": "code",
   "execution_count": null,
   "id": "6b2c21c8",
   "metadata": {},
   "outputs": [
    {
     "name": "stderr",
     "output_type": "stream",
     "text": [
      " This problem is unconstrained.\n"
     ]
    },
    {
     "name": "stdout",
     "output_type": "stream",
     "text": [
      "RUNNING THE L-BFGS-B CODE\n",
      "\n",
      "           * * *\n",
      "\n",
      "Machine precision = 2.220D-16\n",
      " N =           36     M =           10\n",
      "\n",
      "At X0         0 variables are exactly at the bounds\n",
      "\n",
      "At iterate    0    f=  5.37128D+01    |proj g|=  7.75551D+02\n",
      "\n",
      "At iterate    1    f=  1.36948D+01    |proj g|=  2.46320D+02\n",
      "\n",
      "At iterate    2    f=  4.14529D+00    |proj g|=  5.50075D+01\n",
      "\n",
      "At iterate    3    f=  2.93015D+00    |proj g|=  6.48847D+01\n",
      "\n",
      "At iterate    4    f=  4.77447D-01    |proj g|=  2.24831D+01\n",
      "\n",
      "At iterate    5    f=  1.82483D-01    |proj g|=  8.23394D+00\n",
      "\n",
      "At iterate    6    f=  8.48835D-02    |proj g|=  3.84221D+00\n",
      "\n",
      "At iterate    7    f=  2.19300D-02    |proj g|=  1.75376D+00\n",
      "\n",
      "At iterate    8    f=  2.47573D-03    |proj g|=  4.81323D-01\n",
      "\n",
      "At iterate    9    f=  6.16183D-05    |proj g|=  1.92202D-01\n",
      "\n",
      "At iterate   10    f=  3.14372D-06    |proj g|=  5.95269D-02\n",
      "\n",
      "At iterate   11    f=  3.57696D-08    |proj g|=  4.82707D-03\n",
      "\n",
      "At iterate   12    f=  5.68113D-10    |proj g|=  5.18862D-04\n",
      "\n",
      "At iterate   13    f=  5.85464D-11    |proj g|=  2.50161D-04\n",
      "\n",
      "           * * *\n",
      "\n",
      "Tit   = total number of iterations\n",
      "Tnf   = total number of function evaluations\n",
      "Tnint = total number of segments explored during Cauchy searches\n",
      "Skip  = number of BFGS updates skipped\n",
      "Nact  = number of active bounds at final generalized Cauchy point\n",
      "Projg = norm of the final projected gradient\n",
      "F     = final function value\n",
      "\n",
      "           * * *\n",
      "\n",
      "   N    Tit     Tnf  Tnint  Skip  Nact     Projg        F\n",
      "   36     13     16      1     0     0   2.502D-04   5.855D-11\n",
      "  F =   5.8546421159586188E-011\n",
      "\n",
      "CONVERGENCE: REL_REDUCTION_OF_F_<=_FACTR*EPSMCH             \n",
      "Estimated gamma: [ 0.10772424  0.09872163  0.09987662  0.10285497  0.10169881  0.10597607\n",
      "  0.12384555  0.09687393  0.09949109  0.10178673  0.10066299  0.09987033\n",
      "  0.00335013  0.14446244  0.10663505  0.10064066  0.10647997  0.10282596\n",
      "  0.11832658  0.1037618   0.07549275  0.10715832  0.10343115  0.06579025\n",
      "  0.10179148  0.07239386  0.10470499  0.21029968  0.05427279  0.14669722\n",
      " -0.23535784  0.19944412  0.02737253 -0.00391337  0.09785907  0.11177084]\n",
      "Estimated beta: [ -3.18587414  46.57812055  21.54678632   5.69264697 -42.60454664\n",
      "  -0.53618108  -0.79444418  -0.07171248]\n",
      "Final loss: 5.854642115958619e-11\n"
     ]
    }
   ],
   "source": [
    "df = pd.read_excel('./Data/CoffeeData.xlsx')\n",
    "D = 100 # takes 45m 40s (using closed-form solution)\n",
    "p=4 # alternatives\n",
    "t=114 # time periods\n",
    "nfeatures = 8 # number of product features (including price and intercept)\n",
    "shares = df['Share'].values\n",
    "outside = df['Outside'].values\n",
    "col_instruments = ['Spot 1', 'Spot 2', 'Spot 3', 'Spot 4', 'Spot 5', 'Spot 6']\n",
    "col_endo = ['Price', 'Brand 1', 'Brand 2', 'Brand 3', 'Brand 4']\n",
    "col_exo = ['Feature', 'Display', 'F&D']\n",
    "col_x = col_endo + col_exo\n",
    "X = df[col_x].values\n",
    "Z = df[col_instruments+col_exo].values\n",
    "Z = sm.add_constant(Z)\n",
    "blp_model = lgt.BLP(X, Z, shares, outside, nfeatures, D, t, p)\n",
    "gamma_hat, beta_hat = blp_model.fit()\n",
    "blp_model.summary()"
   ]
  }
 ],
 "metadata": {
  "kernelspec": {
   "display_name": "base",
   "language": "python",
   "name": "python3"
  },
  "language_info": {
   "codemirror_mode": {
    "name": "ipython",
    "version": 3
   },
   "file_extension": ".py",
   "mimetype": "text/x-python",
   "name": "python",
   "nbconvert_exporter": "python",
   "pygments_lexer": "ipython3",
   "version": "3.10.10"
  }
 },
 "nbformat": 4,
 "nbformat_minor": 5
}
