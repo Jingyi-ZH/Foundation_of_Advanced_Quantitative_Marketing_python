{
 "cells": [
  {
   "cell_type": "code",
   "execution_count": 1,
   "id": "fad482eb",
   "metadata": {},
   "outputs": [],
   "source": [
    "import os\n",
    "root = \"../../Foundation_of_Advanced_Quantitative_Marketing_Python\"\n",
    "os.chdir(root)\n",
    "import numpy as np\n",
    "import pandas as pd\n",
    "np.random.seed(123)"
   ]
  },
  {
   "cell_type": "markdown",
   "id": "6a06eb77",
   "metadata": {},
   "source": [
    "# Simulation\n",
    "simulate aggregate market share for BLP model"
   ]
  },
  {
   "cell_type": "code",
   "execution_count": 2,
   "id": "29ecdac2",
   "metadata": {},
   "outputs": [
    {
     "name": "stdout",
     "output_type": "stream",
     "text": [
      "True parameters:\n",
      "beta_price: -1.5, beta_x1: 1.0\n"
     ]
    },
    {
     "data": {
      "text/html": [
       "<div>\n",
       "<style scoped>\n",
       "    .dataframe tbody tr th:only-of-type {\n",
       "        vertical-align: middle;\n",
       "    }\n",
       "\n",
       "    .dataframe tbody tr th {\n",
       "        vertical-align: top;\n",
       "    }\n",
       "\n",
       "    .dataframe thead th {\n",
       "        text-align: right;\n",
       "    }\n",
       "</style>\n",
       "<table border=\"1\" class=\"dataframe\">\n",
       "  <thead>\n",
       "    <tr style=\"text-align: right;\">\n",
       "      <th></th>\n",
       "      <th>market_ids</th>\n",
       "      <th>product_ids</th>\n",
       "      <th>shares</th>\n",
       "      <th>prices</th>\n",
       "      <th>x1</th>\n",
       "      <th>iv_x1_othersum</th>\n",
       "      <th>iv_p_othersum</th>\n",
       "      <th>base_cost</th>\n",
       "    </tr>\n",
       "  </thead>\n",
       "  <tbody>\n",
       "    <tr>\n",
       "      <th>0</th>\n",
       "      <td>0</td>\n",
       "      <td>0</td>\n",
       "      <td>0.018466</td>\n",
       "      <td>2.774765</td>\n",
       "      <td>-1.085631</td>\n",
       "      <td>-2.008726</td>\n",
       "      <td>23.332472</td>\n",
       "      <td>2.006095</td>\n",
       "    </tr>\n",
       "    <tr>\n",
       "      <th>1</th>\n",
       "      <td>0</td>\n",
       "      <td>1</td>\n",
       "      <td>0.041913</td>\n",
       "      <td>3.945674</td>\n",
       "      <td>0.997345</td>\n",
       "      <td>-4.091702</td>\n",
       "      <td>22.161563</td>\n",
       "      <td>1.941811</td>\n",
       "    </tr>\n",
       "    <tr>\n",
       "      <th>2</th>\n",
       "      <td>0</td>\n",
       "      <td>2</td>\n",
       "      <td>0.040794</td>\n",
       "      <td>3.897148</td>\n",
       "      <td>0.282978</td>\n",
       "      <td>-3.377335</td>\n",
       "      <td>22.210089</td>\n",
       "      <td>2.040208</td>\n",
       "    </tr>\n",
       "    <tr>\n",
       "      <th>3</th>\n",
       "      <td>0</td>\n",
       "      <td>3</td>\n",
       "      <td>0.012271</td>\n",
       "      <td>2.769742</td>\n",
       "      <td>-1.506295</td>\n",
       "      <td>-1.588062</td>\n",
       "      <td>23.337495</td>\n",
       "      <td>2.211342</td>\n",
       "    </tr>\n",
       "    <tr>\n",
       "      <th>4</th>\n",
       "      <td>0</td>\n",
       "      <td>4</td>\n",
       "      <td>0.014747</td>\n",
       "      <td>3.023046</td>\n",
       "      <td>-0.578600</td>\n",
       "      <td>-2.515757</td>\n",
       "      <td>23.084191</td>\n",
       "      <td>2.199696</td>\n",
       "    </tr>\n",
       "  </tbody>\n",
       "</table>\n",
       "</div>"
      ],
      "text/plain": [
       "   market_ids  product_ids    shares    prices        x1  iv_x1_othersum  \\\n",
       "0           0            0  0.018466  2.774765 -1.085631       -2.008726   \n",
       "1           0            1  0.041913  3.945674  0.997345       -4.091702   \n",
       "2           0            2  0.040794  3.897148  0.282978       -3.377335   \n",
       "3           0            3  0.012271  2.769742 -1.506295       -1.588062   \n",
       "4           0            4  0.014747  3.023046 -0.578600       -2.515757   \n",
       "\n",
       "   iv_p_othersum  base_cost  \n",
       "0      23.332472   2.006095  \n",
       "1      22.161563   1.941811  \n",
       "2      22.210089   2.040208  \n",
       "3      23.337495   2.211342  \n",
       "4      23.084191   2.199696  "
      ]
     },
     "execution_count": 2,
     "metadata": {},
     "output_type": "execute_result"
    }
   ],
   "source": [
    "# -----------------------------\n",
    "# Minimal BLP example (toy)\n",
    "# -----------------------------\n",
    "\n",
    "# market structure\n",
    "T = 10          # number of markets (e.g., cities/quarters)\n",
    "J = 8           # number of alternatives\n",
    "I = 50000       # number of individuals for simulating shares\n",
    "\n",
    "markets = np.repeat(np.arange(T), J)\n",
    "products = np.tile(np.arange(J), T)\n",
    "\n",
    "# characteristics x1, price p and unobserved quality xi\n",
    "x1 = np.random.normal(size=T*J)\n",
    "true_price = -1.5           # price (positive, in utility it will be -alpha * p)\n",
    "true_beta_x1 = 1.0         # mean coefficient for x1\n",
    "xi = 0.3 * np.random.normal(size=T*J)   # unobserved quality\n",
    "print(\"True parameters:\")\n",
    "print(f\"beta_price: {true_price}, beta_x1: {true_beta_x1}\")\n",
    "\n",
    "# make prices positively correlated with xi to create \"endogeneity\"\n",
    "# base cost + affected by xi\n",
    "base_cost = 2.0 + 0.3*np.random.normal(size=T*J)\n",
    "prices = np.exp(0.2 + 0.6*x1 + 0.5*xi) + base_cost\n",
    "\n",
    "# individual heterogeneity: add a random coefficient to price and x1\n",
    "sigma_price_true = 1.0\n",
    "sigma_x1_true = 0.5\n",
    "\n",
    "# simulate market shares by averaging over I individuals\n",
    "# each individual has their own random coefficients drawn from N(0, sigma^2)\n",
    "nu_price = np.random.normal(size=(I, T))    # I x T\n",
    "nu_x1 = np.random.normal(size=(I, T))\n",
    "\n",
    "shares = np.zeros(T*J)\n",
    "for t in range(T):\n",
    "    idx = slice(t*J, (t+1)*J)\n",
    "    delta = true_beta_x1 * x1[idx] + true_price * prices[idx] + xi[idx]\n",
    "    mu_i = (sigma_price_true * prices[idx][None, :] * nu_price[:, [t]]) + (sigma_x1_true * x1[idx][None, :] * nu_x1[:, [t]])\n",
    "    util = delta[None, :] + mu_i\n",
    "    expu = np.exp(util)\n",
    "    denom = 1 + np.sum(expu, axis=1, keepdims=True)\n",
    "    pij = expu / denom\n",
    "    s = pij.mean(axis=0)        # average individual choice probability -> market share\n",
    "    # ensure shares are strictly in (0,1)\n",
    "    s = np.clip(s, 1e-6, 1 - 1e-6)\n",
    "    shares[idx] = s\n",
    "\n",
    "# construct product table\n",
    "df = pd.DataFrame({\n",
    "    'market_ids': markets,\n",
    "    'product_ids': products,\n",
    "    'shares': shares,\n",
    "    'prices': prices,\n",
    "    'x1': x1,\n",
    "})\n",
    "\n",
    "# a simple instrument\n",
    "def blp_instruments_simple(df):\n",
    "    Z1, Z2 = [], []\n",
    "    for t in range(T):\n",
    "        idx = slice(t*J, (t+1)*J-1)\n",
    "        x1_t = df.loc[idx, 'x1'].values\n",
    "        p_t = df.loc[idx, 'prices'].values\n",
    "        Z1.append((x1_t.sum() - x1_t).reshape(-1, 1))\n",
    "        Z2.append((p_t.sum() - p_t).reshape(-1, 1))\n",
    "    return np.vstack(Z1), np.vstack(Z2)\n",
    "\n",
    "Zx1, Zp = blp_instruments_simple(df)\n",
    "df['iv_x1_othersum'] = Zx1\n",
    "df['iv_p_othersum']  = Zp\n",
    "df['base_cost'] = base_cost\n",
    "df.head()"
   ]
  },
  {
   "cell_type": "markdown",
   "id": "cf1068d5",
   "metadata": {},
   "source": [
    "# Apply BLP model"
   ]
  },
  {
   "cell_type": "code",
   "execution_count": 49,
   "id": "e0abbb1c",
   "metadata": {},
   "outputs": [
    {
     "name": "stdout",
     "output_type": "stream",
     "text": [
      "RUNNING THE L-BFGS-B CODE\n",
      "\n",
      "           * * *\n",
      "\n",
      "Machine precision = 2.220D-16\n",
      " N =            3     M =           10\n",
      "\n",
      "At X0         0 variables are exactly at the bounds\n",
      "\n",
      "At iterate    0    f=  3.30179D+00    |proj g|=  4.43317D+00\n",
      "\n"
     ]
    },
    {
     "name": "stderr",
     "output_type": "stream",
     "text": [
      " This problem is unconstrained.\n"
     ]
    },
    {
     "name": "stdout",
     "output_type": "stream",
     "text": [
      "At iterate    1    f=  5.45438D-01    |proj g|=  1.43146D+00\n",
      "\n",
      "At iterate    2    f=  3.83508D-01    |proj g|=  3.98669D-01\n",
      "\n",
      "At iterate    3    f=  3.67307D-01    |proj g|=  2.47872D-01\n",
      "\n",
      "At iterate    4    f=  2.38861D-01    |proj g|=  1.46565D+00\n",
      "\n",
      "At iterate    5    f=  9.11091D-02    |proj g|=  9.12374D-01\n",
      "\n",
      "At iterate    6    f=  4.55220D-02    |proj g|=  2.58514D-01\n",
      "\n",
      "At iterate    7    f=  8.55657D-03    |proj g|=  2.73815D-01\n",
      "\n",
      "At iterate    8    f=  6.07004D-04    |proj g|=  7.46359D-02\n",
      "\n",
      "At iterate    9    f=  5.64055D-07    |proj g|=  1.28605D-03\n",
      "\n",
      "At iterate   10    f=  7.39356D-09    |proj g|=  1.37188D-04\n",
      "\n",
      "At iterate   11    f=  1.93471D-14    |proj g|=  4.02661D-07\n",
      "\n",
      "           * * *\n",
      "\n",
      "Tit   = total number of iterations\n",
      "Tnf   = total number of function evaluations\n",
      "Tnint = total number of segments explored during Cauchy searches\n",
      "Skip  = number of BFGS updates skipped\n",
      "Nact  = number of active bounds at final generalized Cauchy point\n",
      "Projg = norm of the final projected gradient\n",
      "F     = final function value\n",
      "\n",
      "           * * *\n",
      "\n",
      "   N    Tit     Tnf  Tnint  Skip  Nact     Projg        F\n",
      "    3     11     15      1     0     0   4.027D-07   1.935D-14\n",
      "  F =   1.9347071107684504E-014\n",
      "\n",
      "CONVERGENCE: NORM_OF_PROJECTED_GRADIENT_<=_PGTOL            \n"
     ]
    }
   ],
   "source": [
    "import statsmodels.api as sm\n",
    "from src import logit_boost as lgt\n",
    "shares = df['shares'].values\n",
    "outside = 1 - df.groupby('market_ids')['shares'].transform('sum').values\n",
    "col_instruments = ['iv_x1_othersum', 'iv_p_othersum']\n",
    "col_endo = ['prices']\n",
    "col_exo = ['x1']\n",
    "col_x = col_endo + col_exo\n",
    "X = df[col_x].values\n",
    "Z = df[col_instruments+col_exo].values\n",
    "D = 1000\n",
    "t = 10\n",
    "p = 8\n",
    "# X = sm.add_constant(X)\n",
    "Z = sm.add_constant(Z)\n",
    "blp_model = lgt.BLP(X, Z, shares, outside, D, t, p)\n",
    "gamma_hat, beta_hat = blp_model.fit()"
   ]
  },
  {
   "cell_type": "code",
   "execution_count": 50,
   "id": "66b8d2e3",
   "metadata": {},
   "outputs": [
    {
     "name": "stdout",
     "output_type": "stream",
     "text": [
      "Estimated gamma: [1.0245751  0.19090908 1.28336647]\n",
      "Estimated beta: [-1.6684138   1.26439252]\n",
      "Final loss: 1.9347071107684504e-14\n"
     ]
    }
   ],
   "source": [
    "blp_model.summary()"
   ]
  },
  {
   "cell_type": "markdown",
   "id": "5b30ec13",
   "metadata": {},
   "source": [
    "## \"cheating\" with best instrument (cost)\n",
    "use 'base_cost' with noise as instrument"
   ]
  },
  {
   "cell_type": "code",
   "execution_count": 70,
   "id": "eb74b9f5",
   "metadata": {},
   "outputs": [
    {
     "name": "stderr",
     "output_type": "stream",
     "text": [
      " This problem is unconstrained.\n"
     ]
    },
    {
     "name": "stdout",
     "output_type": "stream",
     "text": [
      "RUNNING THE L-BFGS-B CODE\n",
      "\n",
      "           * * *\n",
      "\n",
      "Machine precision = 2.220D-16\n",
      " N =            3     M =           10\n",
      "\n",
      "At X0         0 variables are exactly at the bounds\n",
      "\n",
      "At iterate    0    f=  3.98003D+00    |proj g|=  5.43224D+00\n",
      "\n",
      "At iterate    1    f=  7.10986D-01    |proj g|=  2.99889D+00\n",
      "\n",
      "At iterate    2    f=  3.02476D-01    |proj g|=  1.60344D+00\n",
      "\n",
      "At iterate    3    f=  1.86979D-01    |proj g|=  5.97924D-01\n",
      "\n",
      "At iterate    4    f=  1.23554D-01    |proj g|=  6.09050D-01\n",
      "\n",
      "At iterate    5    f=  1.91091D-02    |proj g|=  5.85436D-01\n",
      "\n",
      "At iterate    6    f=  3.48026D-03    |proj g|=  2.76829D-01\n",
      "\n",
      "At iterate    7    f=  1.90074D-04    |proj g|=  4.73471D-02\n",
      "\n",
      "At iterate    8    f=  2.34358D-07    |proj g|=  9.83042D-04\n",
      "\n",
      "At iterate    9    f=  4.79134D-10    |proj g|=  6.42811D-05\n",
      "\n",
      "At iterate   10    f=  1.39843D-13    |proj g|=  1.72449D-06\n",
      "\n",
      "           * * *\n",
      "\n",
      "Tit   = total number of iterations\n",
      "Tnf   = total number of function evaluations\n",
      "Tnint = total number of segments explored during Cauchy searches\n",
      "Skip  = number of BFGS updates skipped\n",
      "Nact  = number of active bounds at final generalized Cauchy point\n",
      "Projg = norm of the final projected gradient\n",
      "F     = final function value\n",
      "\n",
      "           * * *\n",
      "\n",
      "   N    Tit     Tnf  Tnint  Skip  Nact     Projg        F\n",
      "    3     10     12      1     0     0   1.724D-06   1.398D-13\n",
      "  F =   1.3984271663408703E-013\n",
      "\n",
      "CONVERGENCE: NORM_OF_PROJECTED_GRADIENT_<=_PGTOL            \n"
     ]
    }
   ],
   "source": [
    "import statsmodels.api as sm\n",
    "from src import logit_boost as lgt\n",
    "shares = df['shares'].values\n",
    "outside = 1 - df.groupby('market_ids')['shares'].transform('sum').values\n",
    "col_instruments = ['base_cost','iv_x1_othersum', 'iv_p_othersum']  ## cheating to test the function\n",
    "col_endo = ['prices']\n",
    "col_exo = ['x1']\n",
    "col_x = col_endo + col_exo\n",
    "X = df[col_x].values\n",
    "Z = df[col_instruments+col_exo].values\n",
    "D = 1000\n",
    "t = 10\n",
    "p = 8\n",
    "# add noise to the first column of Z\n",
    "Z[:,0] = Z[:,0] + 0.01 * np.random.normal(size=Z.shape[0])\n",
    "# Z = sm.add_constant(Z)\n",
    "blp_model = lgt.BLP(X, Z, shares, outside, D, t, p)\n",
    "gamma_hat, beta_hat = blp_model.fit()"
   ]
  },
  {
   "cell_type": "code",
   "execution_count": 71,
   "id": "264a18e3",
   "metadata": {},
   "outputs": [
    {
     "name": "stdout",
     "output_type": "stream",
     "text": [
      "Estimated gamma: [ 0.93651949 -0.14850349  0.46022517]\n",
      "Estimated beta: [-1.47236745  1.10222482]\n",
      "Final loss: 1.3984271663408703e-13\n"
     ]
    }
   ],
   "source": [
    "blp_model.summary()"
   ]
  },
  {
   "cell_type": "code",
   "execution_count": null,
   "id": "761a440a",
   "metadata": {},
   "outputs": [],
   "source": []
  }
 ],
 "metadata": {
  "kernelspec": {
   "display_name": "base",
   "language": "python",
   "name": "python3"
  },
  "language_info": {
   "codemirror_mode": {
    "name": "ipython",
    "version": 3
   },
   "file_extension": ".py",
   "mimetype": "text/x-python",
   "name": "python",
   "nbconvert_exporter": "python",
   "pygments_lexer": "ipython3",
   "version": "3.10.10"
  }
 },
 "nbformat": 4,
 "nbformat_minor": 5
}
